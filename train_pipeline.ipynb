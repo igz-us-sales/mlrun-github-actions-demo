{
 "cells": [
  {
   "cell_type": "markdown",
   "metadata": {},
   "source": [
    "### Setup MLRun Project"
   ]
  },
  {
   "cell_type": "code",
   "execution_count": 171,
   "metadata": {},
   "outputs": [],
   "source": [
    "import os\n",
    "from os import path\n",
    "from mlrun import set_environment, new_project, mlconf\n",
    "\n",
    "# Set the default environment configuration\n",
    "project_name, artifact_path = set_environment(project=\"gitops-project\", artifact_path='v3io:///users/{{run.user}}/pipe/{{workflow.uid}}')\n",
    "\n",
    "# Create project\n",
    "project_path = path.abspath(\"project\")\n",
    "project = new_project(name=project_name, context=project_path)"
   ]
  },
  {
   "cell_type": "markdown",
   "metadata": {},
   "source": [
    "### Build Docker Image"
   ]
  },
  {
   "cell_type": "code",
   "execution_count": 172,
   "metadata": {},
   "outputs": [
    {
     "data": {
      "text/plain": [
       "'docker-registry.default-tenant.app.us-sales-eks.iguazio-cd0.com:80/gitops-image'"
      ]
     },
     "execution_count": 172,
     "metadata": {},
     "output_type": "execute_result"
    }
   ],
   "source": [
    "image = f\"docker-registry.{os.getenv('IGZ_NAMESPACE_DOMAIN')}:80/gitops-image\"\n",
    "image"
   ]
  },
  {
   "cell_type": "code",
   "execution_count": 173,
   "metadata": {},
   "outputs": [],
   "source": [
    "# # Build Docker Image (only needs to be run once)\n",
    "# from mlrun import new_function\n",
    "\n",
    "# build_image = new_function(name=\"build-image\", kind=\"job\")\n",
    "# build_image.build_config(\n",
    "#     image=image,\n",
    "#     base_image=\"mlrun/mlrun\",\n",
    "#     commands=[\"pip install PyGithub\"]\n",
    "# )\n",
    "# build_image.deploy(with_mlrun=False)"
   ]
  },
  {
   "cell_type": "code",
   "execution_count": 174,
   "metadata": {},
   "outputs": [
    {
     "data": {
      "text/plain": [
       "'docker-registry.default-tenant.app.us-sales-eks.iguazio-cd0.com:80/gitops-image'"
      ]
     },
     "execution_count": 174,
     "metadata": {},
     "output_type": "execute_result"
    }
   ],
   "source": [
    "image"
   ]
  },
  {
   "cell_type": "markdown",
   "metadata": {},
   "source": [
    "### Import Functions"
   ]
  },
  {
   "cell_type": "code",
   "execution_count": 300,
   "metadata": {},
   "outputs": [
    {
     "data": {
      "text/plain": [
       "<mlrun.runtimes.kubejob.KubejobRuntime at 0x7f0c75169190>"
      ]
     },
     "execution_count": 300,
     "metadata": {},
     "output_type": "execute_result"
    }
   ],
   "source": [
    "project.set_function(name=\"gen-iris\",\n",
    "                    func=\"components/gen_iris.py\",\n",
    "                    kind=\"job\",\n",
    "                    image=image)\n",
    "project.set_function(name=\"describe\",\n",
    "                    func=\"hub://describe\",\n",
    "                    kind=\"job\",\n",
    "                    image=image)\n",
    "project.set_function(name=\"train\",\n",
    "                    func=\"hub://sklearn_classifier\",\n",
    "                    kind=\"job\",\n",
    "                    image=image)\n",
    "project.set_function(name=\"test\",\n",
    "                    func=\"components/test_classifier.py\",\n",
    "                    kind=\"job\",\n",
    "                    image=image)\n",
    "project.set_function(name=\"serving\",\n",
    "                    func=\"hub://model_server\",\n",
    "                    kind=\"serving\",\n",
    "                    image=image)\n",
    "project.set_function(name=\"live_tester\",\n",
    "                    func=\"hub://model_server_tester\",\n",
    "                    kind=\"serving\",\n",
    "                    image=image)"
   ]
  },
  {
   "cell_type": "markdown",
   "metadata": {},
   "source": [
    "### Pipeline"
   ]
  },
  {
   "cell_type": "code",
   "execution_count": 301,
   "metadata": {},
   "outputs": [
    {
     "name": "stdout",
     "output_type": "stream",
     "text": [
      "Overwriting /User/mlrun-github-actions-demo/project/pipelines/train.py\n"
     ]
    }
   ],
   "source": [
    "%%writefile {path.join(project_path, 'pipelines/train.py')}\n",
    "from kfp import dsl\n",
    "from mlrun import mount_v3io, NewTask\n",
    "\n",
    "funcs = {}\n",
    "this_project = None\n",
    "DATASET = 'iris_dataset'\n",
    "LABELS  = \"label\"\n",
    "\n",
    "# init functions is used to configure function resources and local settings\n",
    "def init_functions(functions: dict, project=None, secrets=None):\n",
    "    for f in functions.values():\n",
    "        f.apply(mount_v3io())\n",
    "        f.set_env(\"GITHUB_TOKEN\", secrets.get(\"GITHUB_TOKEN\"))\n",
    "\n",
    "@dsl.pipeline(\n",
    "    name=\"Demo training pipeline\",\n",
    "    description=\"Shows how to use mlrun.\"\n",
    ")\n",
    "def kfpipeline(\n",
    "    existing_model_path:str=\"None\"\n",
    "):\n",
    "    \n",
    "    # run the ingestion function with the new image and params\n",
    "    ingest = funcs['gen-iris'].as_step(\n",
    "        name=\"get-data\",\n",
    "        handler='iris_generator',\n",
    "        params={'format': 'pq'},\n",
    "        outputs=[DATASET])\n",
    "\n",
    "    # analyze our dataset\n",
    "    describe = funcs[\"describe\"].as_step(\n",
    "        name=\"summary\",\n",
    "        params={\"label_column\": LABELS},\n",
    "        inputs={\"table\": ingest.outputs[DATASET]})\n",
    "    \n",
    "    # train with hyper-paremeters\n",
    "    train = funcs[\"train\"].as_step(\n",
    "        name=\"train\",\n",
    "        params={\"sample\"          : -1,\n",
    "                \"label_column\"    : LABELS,\n",
    "                \"test_size\"       : 0.10},\n",
    "        hyperparams={'model_pkg_class': [\"sklearn.ensemble.RandomForestClassifier\",\n",
    "                                         \"sklearn.linear_model.LogisticRegression\",\n",
    "                                         \"sklearn.ensemble.AdaBoostClassifier\"]},\n",
    "        selector='max.accuracy',\n",
    "        inputs={\"dataset\"         : ingest.outputs[DATASET]},\n",
    "        labels={\"commit\": this_project.params.get('commit', '')},\n",
    "        outputs=['model', 'test_set'])\n",
    "\n",
    "    # test and visualize our model\n",
    "    test = funcs[\"test\"].as_step(\n",
    "        name=\"test\",\n",
    "        handler=\"test_classifier\",\n",
    "        params={\"label_column\": LABELS,\n",
    "                \"new_model_path\" : train.outputs['model'],\n",
    "                \"existing_model_path\" : existing_model_path,\n",
    "                \"comparison_metric\": \"accuracy\",\n",
    "                \"post_github\" : True},\n",
    "        inputs={\"test_set\"    : train.outputs['test_set']})\n",
    "\n",
    "#     # deploy our model as a serverless function\n",
    "#     deploy = funcs[\"serving\"].deploy_step(models={f\"{DATASET}_v1\": train.outputs['model']},\n",
    "#                                           tag=this_project.params.get('commit', 'v1'))\n",
    "\n",
    "#     # test out new model server (via REST API calls)\n",
    "#     tester = funcs[\"live_tester\"].as_step(name='model-tester',\n",
    "#         params={'addr': deploy.outputs['endpoint'], 'model': f\"{DATASET}_v1\"},\n",
    "#         inputs={'table': train.outputs['test_set']})"
   ]
  },
  {
   "cell_type": "markdown",
   "metadata": {},
   "source": [
    "### Add GitHub secret"
   ]
  },
  {
   "cell_type": "code",
   "execution_count": 302,
   "metadata": {},
   "outputs": [
    {
     "data": {
      "text/plain": [
       "<mlrun.projects.project.MlrunProject at 0x7f0c7464e850>"
      ]
     },
     "execution_count": 302,
     "metadata": {},
     "output_type": "execute_result"
    }
   ],
   "source": [
    "project.with_secrets(\"file\", \"ghtoken.txt\")"
   ]
  },
  {
   "cell_type": "markdown",
   "metadata": {},
   "source": [
    "### Save Pipeline"
   ]
  },
  {
   "cell_type": "code",
   "execution_count": 303,
   "metadata": {},
   "outputs": [],
   "source": [
    "project.set_workflow(\"train\", \"pipelines/train.py\")\n",
    "project.save()"
   ]
  },
  {
   "cell_type": "markdown",
   "metadata": {},
   "source": [
    "### Pipeline"
   ]
  },
  {
   "cell_type": "code",
   "execution_count": 304,
   "metadata": {},
   "outputs": [
    {
     "data": {
      "text/html": [
       "Experiment link <a href=\"https://dashboard.default-tenant.app.us-sales-eks.iguazio-cd0.com/pipelines/#/experiments/details/fa13e317-6601-4a2d-8f0c-f17b8b3fa94f\" target=\"_blank\" >here</a>"
      ],
      "text/plain": [
       "<IPython.core.display.HTML object>"
      ]
     },
     "metadata": {},
     "output_type": "display_data"
    },
    {
     "data": {
      "text/html": [
       "Run link <a href=\"https://dashboard.default-tenant.app.us-sales-eks.iguazio-cd0.com/pipelines/#/runs/details/3d3a8666-a8af-4720-853b-1646dd506e4d\" target=\"_blank\" >here</a>"
      ],
      "text/plain": [
       "<IPython.core.display.HTML object>"
      ]
     },
     "metadata": {},
     "output_type": "display_data"
    },
    {
     "name": "stdout",
     "output_type": "stream",
     "text": [
      "> 2021-07-30 23:16:50,016 [info] Pipeline run id=3d3a8666-a8af-4720-853b-1646dd506e4d, check UI or DB for progress\n",
      "> 2021-07-30 23:16:50,016 [info] waiting for pipeline run completion\n"
     ]
    },
    {
     "data": {
      "text/html": [
       "<h2>Run Results</h2>Workflow 3d3a8666-a8af-4720-853b-1646dd506e4d finished, status=Succeeded<br>click the hyper links below to see detailed results<br><table border=\"1\" class=\"dataframe\">\n",
       "  <thead>\n",
       "    <tr style=\"text-align: right;\">\n",
       "      <th>uid</th>\n",
       "      <th>start</th>\n",
       "      <th>state</th>\n",
       "      <th>name</th>\n",
       "      <th>results</th>\n",
       "      <th>artifacts</th>\n",
       "    </tr>\n",
       "  </thead>\n",
       "  <tbody>\n",
       "    <tr>\n",
       "      <td><div title=\"a7e5cef24d084eacbc1965b9dd71d748\"><a href=\"https://dashboard.default-tenant.app.us-sales-eks.iguazio-cd0.com/mlprojects/gitops-project/jobs/monitor/a7e5cef24d084eacbc1965b9dd71d748/overview\" target=\"_blank\" >...dd71d748</a></div></td>\n",
       "      <td>Jul 30 23:17:40</td>\n",
       "      <td>completed</td>\n",
       "      <td>test</td>\n",
       "      <td><div class=\"dictlist\">accuracy-new_model=0.9333333333333333</div><div class=\"dictlist\">test-error-new_model=0.06666666666666667</div><div class=\"dictlist\">f1-new_model=0.9137254901960784</div><div class=\"dictlist\">precision-new_model=0.8888888888888888</div><div class=\"dictlist\">recall-new_model=0.9629629629629629</div><div class=\"dictlist\">accuracy-existing_model=0.9333333333333333</div><div class=\"dictlist\">test-error-existing_model=0.06666666666666667</div><div class=\"dictlist\">f1-existing_model=0.9137254901960784</div><div class=\"dictlist\">precision-existing_model=0.8888888888888888</div><div class=\"dictlist\">recall-existing_model=0.9629629629629629</div></td>\n",
       "      <td><div title=\"v3io:///users/nick/pipe/3d3a8666-a8af-4720-853b-1646dd506e4d/test_set_preds-new_model.parquet\">test_set_preds-new_model</div><div title=\"v3io:///users/nick/pipe/3d3a8666-a8af-4720-853b-1646dd506e4d/test_set_preds-existing_model.parquet\">test_set_preds-existing_model</div></td>\n",
       "    </tr>\n",
       "    <tr>\n",
       "      <td><div title=\"0e58168b9d494d7b98ee99ded0e1de92\"><a href=\"https://dashboard.default-tenant.app.us-sales-eks.iguazio-cd0.com/mlprojects/gitops-project/jobs/monitor/0e58168b9d494d7b98ee99ded0e1de92/overview\" target=\"_blank\" >...d0e1de92</a></div></td>\n",
       "      <td>Jul 30 23:17:12</td>\n",
       "      <td>completed</td>\n",
       "      <td>train</td>\n",
       "      <td><div class=\"dictlist\">best_iteration=1</div><div class=\"dictlist\">accuracy=0.975609756097561</div><div class=\"dictlist\">test-error=0.024390243902439025</div><div class=\"dictlist\">auc-micro=0.9979179060083283</div><div class=\"dictlist\">auc-weighted=0.9966358284272497</div><div class=\"dictlist\">f1-score=0.9721739130434783</div><div class=\"dictlist\">precision_score=0.9743589743589745</div><div class=\"dictlist\">recall_score=0.9722222222222222</div></td>\n",
       "      <td><div title=\"v3io:///users/nick/pipe/3d3a8666-a8af-4720-853b-1646dd506e4d/data/1/test_set.parquet\">test_set</div><div class=\"artifact\" onclick=\"expandPanel(this)\" paneName=\"result\" title=\"files/v3io/users/nick/pipe/3d3a8666-a8af-4720-853b-1646dd506e4d/model/plots/1/confusion-matrix.html\">confusion-matrix</div><div class=\"artifact\" onclick=\"expandPanel(this)\" paneName=\"result\" title=\"files/v3io/users/nick/pipe/3d3a8666-a8af-4720-853b-1646dd506e4d/model/plots/1/feature-importances.html\">feature-importances</div><div class=\"artifact\" onclick=\"expandPanel(this)\" paneName=\"result\" title=\"files/v3io/users/nick/pipe/3d3a8666-a8af-4720-853b-1646dd506e4d/model/plots/1/precision-recall-multiclass.html\">precision-recall-multiclass</div><div class=\"artifact\" onclick=\"expandPanel(this)\" paneName=\"result\" title=\"files/v3io/users/nick/pipe/3d3a8666-a8af-4720-853b-1646dd506e4d/model/plots/1/roc-multiclass.html\">roc-multiclass</div><div title=\"v3io:///users/nick/pipe/3d3a8666-a8af-4720-853b-1646dd506e4d/model/1/\">model</div><div class=\"artifact\" onclick=\"expandPanel(this)\" paneName=\"result\" title=\"files/v3io/users/nick/pipe/3d3a8666-a8af-4720-853b-1646dd506e4d/iteration_results.csv\">iteration_results</div></td>\n",
       "    </tr>\n",
       "    <tr>\n",
       "      <td><div title=\"7c87eb274a5a4b728713e0f8bc106b31\"><a href=\"https://dashboard.default-tenant.app.us-sales-eks.iguazio-cd0.com/mlprojects/gitops-project/jobs/monitor/7c87eb274a5a4b728713e0f8bc106b31/overview\" target=\"_blank\" >...bc106b31</a></div></td>\n",
       "      <td>Jul 30 23:17:13</td>\n",
       "      <td>completed</td>\n",
       "      <td>summary</td>\n",
       "      <td></td>\n",
       "      <td><div class=\"artifact\" onclick=\"expandPanel(this)\" paneName=\"result\" title=\"files/v3io/users/nick/pipe/3d3a8666-a8af-4720-853b-1646dd506e4d/plots/hist.html\">histograms</div><div class=\"artifact\" onclick=\"expandPanel(this)\" paneName=\"result\" title=\"files/v3io/users/nick/pipe/3d3a8666-a8af-4720-853b-1646dd506e4d/plots/violin.html\">violin</div><div class=\"artifact\" onclick=\"expandPanel(this)\" paneName=\"result\" title=\"files/v3io/users/nick/pipe/3d3a8666-a8af-4720-853b-1646dd506e4d/plots/imbalance.html\">imbalance</div><div class=\"artifact\" onclick=\"expandPanel(this)\" paneName=\"result\" title=\"files/v3io/users/nick/pipe/3d3a8666-a8af-4720-853b-1646dd506e4d/plots/imbalance-weights-vec.csv\">imbalance-weights-vec</div><div class=\"artifact\" onclick=\"expandPanel(this)\" paneName=\"result\" title=\"files/v3io/users/nick/pipe/3d3a8666-a8af-4720-853b-1646dd506e4d/plots/correlation-matrix.csv\">correlation-matrix</div><div class=\"artifact\" onclick=\"expandPanel(this)\" paneName=\"result\" title=\"files/v3io/users/nick/pipe/3d3a8666-a8af-4720-853b-1646dd506e4d/plots/corr.html\">correlation</div></td>\n",
       "    </tr>\n",
       "    <tr>\n",
       "      <td><div title=\"acf5cf01d71b4c4aa98175dc166f0f24\"><a href=\"https://dashboard.default-tenant.app.us-sales-eks.iguazio-cd0.com/mlprojects/gitops-project/jobs/monitor/acf5cf01d71b4c4aa98175dc166f0f24/overview\" target=\"_blank\" >...166f0f24</a></div></td>\n",
       "      <td>Jul 30 23:16:59</td>\n",
       "      <td>completed</td>\n",
       "      <td>get-data</td>\n",
       "      <td></td>\n",
       "      <td><div title=\"v3io:///users/nick/pipe/3d3a8666-a8af-4720-853b-1646dd506e4d/iris_dataset.parquet\">iris_dataset</div></td>\n",
       "    </tr>\n",
       "  </tbody>\n",
       "</table>"
      ],
      "text/plain": [
       "<IPython.core.display.HTML object>"
      ]
     },
     "metadata": {},
     "output_type": "display_data"
    }
   ],
   "source": [
    "run_id = project.run(\"train\", arguments={\"existing_model_path\":\"store://models/gitops-project/train_model#2@139f410a-70b0-489d-a748-593167757909\"}, artifact_path=artifact_path, dirty=True, watch=True)"
   ]
  },
  {
   "cell_type": "code",
   "execution_count": null,
   "metadata": {},
   "outputs": [],
   "source": []
  },
  {
   "cell_type": "code",
   "execution_count": null,
   "metadata": {},
   "outputs": [],
   "source": []
  }
 ],
 "metadata": {
  "kernelspec": {
   "display_name": "Python [conda env:root] *",
   "language": "python",
   "name": "conda-root-py"
  },
  "language_info": {
   "codemirror_mode": {
    "name": "ipython",
    "version": 3
   },
   "file_extension": ".py",
   "mimetype": "text/x-python",
   "name": "python",
   "nbconvert_exporter": "python",
   "pygments_lexer": "ipython3",
   "version": "3.7.6"
  }
 },
 "nbformat": 4,
 "nbformat_minor": 4
}
