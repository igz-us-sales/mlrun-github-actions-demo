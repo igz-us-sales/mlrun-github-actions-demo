{
 "cells": [
  {
   "cell_type": "markdown",
   "metadata": {},
   "source": [
    "### Setup MLRun Project"
   ]
  },
  {
   "cell_type": "code",
   "execution_count": 3,
   "metadata": {},
   "outputs": [],
   "source": [
    "import os\n",
    "from os import path\n",
    "from mlrun import set_environment, new_project, mlconf\n",
    "\n",
    "# Set the default environment configuration\n",
    "project_name, artifact_path = set_environment(project=\"gitops-project\", artifact_path='v3io:///users/{{run.user}}/pipe/{{workflow.uid}}')\n",
    "\n",
    "# Create project\n",
    "project_path = path.abspath(\"project\")\n",
    "project = new_project(name=project_name, context=project_path)"
   ]
  },
  {
   "cell_type": "markdown",
   "metadata": {},
   "source": [
    "### Import Functions"
   ]
  },
  {
   "cell_type": "code",
   "execution_count": 4,
   "metadata": {},
   "outputs": [
    {
     "data": {
      "text/plain": [
       "<mlrun.runtimes.kubejob.KubejobRuntime at 0x7f0c765817d0>"
      ]
     },
     "execution_count": 4,
     "metadata": {},
     "output_type": "execute_result"
    }
   ],
   "source": [
    "project.set_function(name=\"gen-iris\",\n",
    "                    func=\"components/gen_iris.py\",\n",
    "                    kind=\"job\",\n",
    "                    image=\"mlrun/mlrun\")\n",
    "project.set_function(name=\"describe\",\n",
    "                    func=\"hub://describe\",\n",
    "                    kind=\"job\",\n",
    "                    image=\"mlrun/mlrun\")\n",
    "project.set_function(name=\"train\",\n",
    "                    func=\"hub://sklearn_classifier\",\n",
    "                    kind=\"job\",\n",
    "                    image=\"mlrun/mlrun\")\n",
    "project.set_function(name=\"test\",\n",
    "                    func=\"hub://test_classifier\",\n",
    "                    kind=\"job\",\n",
    "                    image=\"mlrun/mlrun\")\n",
    "project.set_function(name=\"serving\",\n",
    "                    func=\"hub://model_server\",\n",
    "                    kind=\"serving\",\n",
    "                    image=\"mlrun/mlrun\")\n",
    "project.set_function(name=\"live_tester\",\n",
    "                    func=\"hub://model_server_tester\",\n",
    "                    kind=\"serving\",\n",
    "                    image=\"mlrun/mlrun\")"
   ]
  },
  {
   "cell_type": "markdown",
   "metadata": {},
   "source": [
    "### Pipeline"
   ]
  },
  {
   "cell_type": "code",
   "execution_count": 6,
   "metadata": {},
   "outputs": [
    {
     "name": "stdout",
     "output_type": "stream",
     "text": [
      "Overwriting /User/mlrun-github-actions-demo/project/pipelines/train.py\n"
     ]
    }
   ],
   "source": [
    "%%writefile {path.join(project_path, 'pipelines/train.py')}\n",
    "from kfp import dsl\n",
    "from mlrun import mount_v3io, NewTask\n",
    "\n",
    "funcs = {}\n",
    "this_project = None\n",
    "DATASET = 'iris_dataset'\n",
    "LABELS  = \"label\"\n",
    "\n",
    "# init functions is used to configure function resources and local settings\n",
    "def init_functions(functions: dict, project=None, secrets=None):\n",
    "    for f in functions.values():\n",
    "        f.apply(mount_v3io())\n",
    "     \n",
    "    # uncomment this line to collect the inference results into a stream\n",
    "    # and specify a path in V3IO (<datacontainer>/<subpath>)\n",
    "    #functions['serving'].set_env('INFERENCE_STREAM', 'users/admin/model_stream')\n",
    "\n",
    "    \n",
    "@dsl.pipeline(\n",
    "    name=\"Demo training pipeline\",\n",
    "    description=\"Shows how to use mlrun.\"\n",
    ")\n",
    "def kfpipeline():\n",
    "    \n",
    "    # run the ingestion function with the new image and params\n",
    "    ingest = funcs['gen-iris'].as_step(\n",
    "        name=\"get-data\",\n",
    "        handler='iris_generator',\n",
    "        params={'format': 'pq'},\n",
    "        outputs=[DATASET])\n",
    "\n",
    "    # analyze our dataset\n",
    "    describe = funcs[\"describe\"].as_step(\n",
    "        name=\"summary\",\n",
    "        params={\"label_column\": LABELS},\n",
    "        inputs={\"table\": ingest.outputs[DATASET]})\n",
    "    \n",
    "    # train with hyper-paremeters\n",
    "    train = funcs[\"train\"].as_step(\n",
    "        name=\"train\",\n",
    "        params={\"sample\"          : -1,\n",
    "                \"label_column\"    : LABELS,\n",
    "                \"test_size\"       : 0.10},\n",
    "        hyperparams={'model_pkg_class': [\"sklearn.ensemble.RandomForestClassifier\",\n",
    "                                         \"sklearn.linear_model.LogisticRegression\",\n",
    "                                         \"sklearn.ensemble.AdaBoostClassifier\"]},\n",
    "        selector='max.accuracy',\n",
    "        inputs={\"dataset\"         : ingest.outputs[DATASET]},\n",
    "        labels={\"commit\": this_project.params.get('commit', '')},\n",
    "        outputs=['model', 'test_set'])\n",
    "\n",
    "    # test and visualize our model\n",
    "    test = funcs[\"test\"].as_step(\n",
    "        name=\"test\",\n",
    "        params={\"label_column\": LABELS},\n",
    "        inputs={\"models_path\" : train.outputs['model'],\n",
    "                \"test_set\"    : train.outputs['test_set']})\n",
    "\n",
    "    # deploy our model as a serverless function\n",
    "    deploy = funcs[\"serving\"].deploy_step(models={f\"{DATASET}_v1\": train.outputs['model']},\n",
    "                                          tag=this_project.params.get('commit', 'v1'))\n",
    "\n",
    "#     # test out new model server (via REST API calls)\n",
    "#     tester = funcs[\"live_tester\"].as_step(name='model-tester',\n",
    "#         params={'addr': deploy.outputs['endpoint'], 'model': f\"{DATASET}_v1\"},\n",
    "#         inputs={'table': train.outputs['test_set']})"
   ]
  },
  {
   "cell_type": "markdown",
   "metadata": {},
   "source": [
    "### Save Pipeline"
   ]
  },
  {
   "cell_type": "code",
   "execution_count": 9,
   "metadata": {},
   "outputs": [],
   "source": [
    "project.set_workflow(\"train\", \"pipelines/train.py\")\n",
    "project.save()"
   ]
  },
  {
   "cell_type": "markdown",
   "metadata": {},
   "source": [
    "### Pipeline"
   ]
  },
  {
   "cell_type": "code",
   "execution_count": 10,
   "metadata": {},
   "outputs": [
    {
     "name": "stdout",
     "output_type": "stream",
     "text": [
      "> 2021-07-30 18:21:50,343 [info] using in-cluster config.\n"
     ]
    },
    {
     "data": {
      "text/html": [
       "Experiment link <a href=\"https://dashboard.default-tenant.app.us-sales-eks.iguazio-cd0.com/pipelines/#/experiments/details/fa13e317-6601-4a2d-8f0c-f17b8b3fa94f\" target=\"_blank\" >here</a>"
      ],
      "text/plain": [
       "<IPython.core.display.HTML object>"
      ]
     },
     "metadata": {},
     "output_type": "display_data"
    },
    {
     "data": {
      "text/html": [
       "Run link <a href=\"https://dashboard.default-tenant.app.us-sales-eks.iguazio-cd0.com/pipelines/#/runs/details/0b9c3d2c-4a17-4095-a5cb-e2c77b4fc685\" target=\"_blank\" >here</a>"
      ],
      "text/plain": [
       "<IPython.core.display.HTML object>"
      ]
     },
     "metadata": {},
     "output_type": "display_data"
    },
    {
     "name": "stdout",
     "output_type": "stream",
     "text": [
      "> 2021-07-30 18:21:50,860 [info] Pipeline run id=0b9c3d2c-4a17-4095-a5cb-e2c77b4fc685, check UI or DB for progress\n",
      "> 2021-07-30 18:21:50,860 [info] waiting for pipeline run completion\n"
     ]
    },
    {
     "data": {
      "text/html": [
       "<h2>Run Results</h2>Workflow 0b9c3d2c-4a17-4095-a5cb-e2c77b4fc685 finished, status=Succeeded<br>click the hyper links below to see detailed results<br><table border=\"1\" class=\"dataframe\">\n",
       "  <thead>\n",
       "    <tr style=\"text-align: right;\">\n",
       "      <th>uid</th>\n",
       "      <th>start</th>\n",
       "      <th>state</th>\n",
       "      <th>name</th>\n",
       "      <th>results</th>\n",
       "      <th>artifacts</th>\n",
       "    </tr>\n",
       "  </thead>\n",
       "  <tbody>\n",
       "    <tr>\n",
       "      <td><div title=\"43824f627a5a446d909a68b58e8c9b87\"><a href=\"https://dashboard.default-tenant.app.us-sales-eks.iguazio-cd0.com/mlprojects/gitops-project/jobs/monitor/43824f627a5a446d909a68b58e8c9b87/overview\" target=\"_blank\" >...8e8c9b87</a></div></td>\n",
       "      <td>Jul 30 18:22:42</td>\n",
       "      <td>completed</td>\n",
       "      <td>test</td>\n",
       "      <td><div class=\"dictlist\">accuracy=0.9333333333333333</div><div class=\"dictlist\">test-error=0.06666666666666667</div><div class=\"dictlist\">auc-micro=0.9666666666666667</div><div class=\"dictlist\">auc-weighted=0.9888888888888889</div><div class=\"dictlist\">f1-score=0.9137254901960784</div><div class=\"dictlist\">precision_score=0.8888888888888888</div><div class=\"dictlist\">recall_score=0.9629629629629629</div></td>\n",
       "      <td><div class=\"artifact\" onclick=\"expandPanel(this)\" paneName=\"result\" title=\"files/v3io/users/nick/pipe/0b9c3d2c-4a17-4095-a5cb-e2c77b4fc685/plots/confusion-matrix.html\">confusion-matrix</div><div class=\"artifact\" onclick=\"expandPanel(this)\" paneName=\"result\" title=\"files/v3io/users/nick/pipe/0b9c3d2c-4a17-4095-a5cb-e2c77b4fc685/plots/feature-importances.html\">feature-importances</div><div class=\"artifact\" onclick=\"expandPanel(this)\" paneName=\"result\" title=\"files/v3io/users/nick/pipe/0b9c3d2c-4a17-4095-a5cb-e2c77b4fc685/plots/precision-recall-multiclass.html\">precision-recall-multiclass</div><div class=\"artifact\" onclick=\"expandPanel(this)\" paneName=\"result\" title=\"files/v3io/users/nick/pipe/0b9c3d2c-4a17-4095-a5cb-e2c77b4fc685/plots/roc-multiclass.html\">roc-multiclass</div><div title=\"v3io:///users/nick/pipe/0b9c3d2c-4a17-4095-a5cb-e2c77b4fc685/test_set_preds.parquet\">test_set_preds</div></td>\n",
       "    </tr>\n",
       "    <tr>\n",
       "      <td><div title=\"d03b86b1bc10496ab7f4fd1776d35c56\"><a href=\"https://dashboard.default-tenant.app.us-sales-eks.iguazio-cd0.com/mlprojects/gitops-project/jobs/monitor/d03b86b1bc10496ab7f4fd1776d35c56/overview\" target=\"_blank\" >...76d35c56</a></div></td>\n",
       "      <td>Jul 30 18:22:14</td>\n",
       "      <td>completed</td>\n",
       "      <td>summary</td>\n",
       "      <td></td>\n",
       "      <td><div class=\"artifact\" onclick=\"expandPanel(this)\" paneName=\"result\" title=\"files/v3io/users/nick/pipe/0b9c3d2c-4a17-4095-a5cb-e2c77b4fc685/plots/hist.html\">histograms</div><div class=\"artifact\" onclick=\"expandPanel(this)\" paneName=\"result\" title=\"files/v3io/users/nick/pipe/0b9c3d2c-4a17-4095-a5cb-e2c77b4fc685/plots/violin.html\">violin</div><div class=\"artifact\" onclick=\"expandPanel(this)\" paneName=\"result\" title=\"files/v3io/users/nick/pipe/0b9c3d2c-4a17-4095-a5cb-e2c77b4fc685/plots/imbalance.html\">imbalance</div><div class=\"artifact\" onclick=\"expandPanel(this)\" paneName=\"result\" title=\"files/v3io/users/nick/pipe/0b9c3d2c-4a17-4095-a5cb-e2c77b4fc685/plots/imbalance-weights-vec.csv\">imbalance-weights-vec</div><div class=\"artifact\" onclick=\"expandPanel(this)\" paneName=\"result\" title=\"files/v3io/users/nick/pipe/0b9c3d2c-4a17-4095-a5cb-e2c77b4fc685/plots/correlation-matrix.csv\">correlation-matrix</div><div class=\"artifact\" onclick=\"expandPanel(this)\" paneName=\"result\" title=\"files/v3io/users/nick/pipe/0b9c3d2c-4a17-4095-a5cb-e2c77b4fc685/plots/corr.html\">correlation</div></td>\n",
       "    </tr>\n",
       "    <tr>\n",
       "      <td><div title=\"fdc0c8b4b7e442608928a4b25f509d1a\"><a href=\"https://dashboard.default-tenant.app.us-sales-eks.iguazio-cd0.com/mlprojects/gitops-project/jobs/monitor/fdc0c8b4b7e442608928a4b25f509d1a/overview\" target=\"_blank\" >...5f509d1a</a></div></td>\n",
       "      <td>Jul 30 18:22:12</td>\n",
       "      <td>completed</td>\n",
       "      <td>train</td>\n",
       "      <td><div class=\"dictlist\">best_iteration=1</div><div class=\"dictlist\">accuracy=0.975609756097561</div><div class=\"dictlist\">test-error=0.024390243902439025</div><div class=\"dictlist\">auc-micro=0.9973230220107079</div><div class=\"dictlist\">auc-weighted=0.9966358284272497</div><div class=\"dictlist\">f1-score=0.9721739130434783</div><div class=\"dictlist\">precision_score=0.9743589743589745</div><div class=\"dictlist\">recall_score=0.9722222222222222</div></td>\n",
       "      <td><div title=\"v3io:///users/nick/pipe/0b9c3d2c-4a17-4095-a5cb-e2c77b4fc685/data/1/test_set.parquet\">test_set</div><div class=\"artifact\" onclick=\"expandPanel(this)\" paneName=\"result\" title=\"files/v3io/users/nick/pipe/0b9c3d2c-4a17-4095-a5cb-e2c77b4fc685/model/plots/1/confusion-matrix.html\">confusion-matrix</div><div class=\"artifact\" onclick=\"expandPanel(this)\" paneName=\"result\" title=\"files/v3io/users/nick/pipe/0b9c3d2c-4a17-4095-a5cb-e2c77b4fc685/model/plots/1/feature-importances.html\">feature-importances</div><div class=\"artifact\" onclick=\"expandPanel(this)\" paneName=\"result\" title=\"files/v3io/users/nick/pipe/0b9c3d2c-4a17-4095-a5cb-e2c77b4fc685/model/plots/1/precision-recall-multiclass.html\">precision-recall-multiclass</div><div class=\"artifact\" onclick=\"expandPanel(this)\" paneName=\"result\" title=\"files/v3io/users/nick/pipe/0b9c3d2c-4a17-4095-a5cb-e2c77b4fc685/model/plots/1/roc-multiclass.html\">roc-multiclass</div><div title=\"v3io:///users/nick/pipe/0b9c3d2c-4a17-4095-a5cb-e2c77b4fc685/model/1/\">model</div><div class=\"artifact\" onclick=\"expandPanel(this)\" paneName=\"result\" title=\"files/v3io/users/nick/pipe/0b9c3d2c-4a17-4095-a5cb-e2c77b4fc685/iteration_results.csv\">iteration_results</div></td>\n",
       "    </tr>\n",
       "    <tr>\n",
       "      <td><div title=\"97525fe34f4b44b19312e7f0b8fac36c\"><a href=\"https://dashboard.default-tenant.app.us-sales-eks.iguazio-cd0.com/mlprojects/gitops-project/jobs/monitor/97525fe34f4b44b19312e7f0b8fac36c/overview\" target=\"_blank\" >...b8fac36c</a></div></td>\n",
       "      <td>Jul 30 18:22:00</td>\n",
       "      <td>completed</td>\n",
       "      <td>get-data</td>\n",
       "      <td></td>\n",
       "      <td><div title=\"v3io:///users/nick/pipe/0b9c3d2c-4a17-4095-a5cb-e2c77b4fc685/iris_dataset.parquet\">iris_dataset</div></td>\n",
       "    </tr>\n",
       "  </tbody>\n",
       "</table>"
      ],
      "text/plain": [
       "<IPython.core.display.HTML object>"
      ]
     },
     "metadata": {},
     "output_type": "display_data"
    }
   ],
   "source": [
    "run_id = project.run(\"train\", arguments={}, artifact_path=artifact_path, dirty=True, watch=True)"
   ]
  },
  {
   "cell_type": "code",
   "execution_count": null,
   "metadata": {},
   "outputs": [],
   "source": []
  }
 ],
 "metadata": {
  "kernelspec": {
   "display_name": "Python [conda env:root] *",
   "language": "python",
   "name": "conda-root-py"
  },
  "language_info": {
   "codemirror_mode": {
    "name": "ipython",
    "version": 3
   },
   "file_extension": ".py",
   "mimetype": "text/x-python",
   "name": "python",
   "nbconvert_exporter": "python",
   "pygments_lexer": "ipython3",
   "version": "3.7.6"
  }
 },
 "nbformat": 4,
 "nbformat_minor": 4
}
