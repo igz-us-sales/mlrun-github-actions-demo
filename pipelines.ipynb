{
 "cells": [
  {
   "cell_type": "markdown",
   "metadata": {},
   "source": [
    "### Setup MLRun Project"
   ]
  },
  {
   "cell_type": "code",
   "execution_count": 308,
   "metadata": {},
   "outputs": [],
   "source": [
    "import os\n",
    "from os import path\n",
    "from mlrun import set_environment, new_project, mlconf\n",
    "\n",
    "# Set the default environment configuration\n",
    "project_name, artifact_path = set_environment(project=\"gitops-project\", artifact_path='v3io:///users/{{run.user}}/pipe/{{workflow.uid}}')\n",
    "\n",
    "# Create project\n",
    "project_path = path.abspath(\"project\")\n",
    "project = new_project(name=project_name, context=project_path)"
   ]
  },
  {
   "cell_type": "markdown",
   "metadata": {},
   "source": [
    "### Build Docker Image"
   ]
  },
  {
   "cell_type": "code",
   "execution_count": 309,
   "metadata": {},
   "outputs": [
    {
     "data": {
      "text/plain": [
       "'docker-registry.default-tenant.app.us-sales-eks.iguazio-cd0.com:80/gitops-image'"
      ]
     },
     "execution_count": 309,
     "metadata": {},
     "output_type": "execute_result"
    }
   ],
   "source": [
    "image = f\"docker-registry.{os.getenv('IGZ_NAMESPACE_DOMAIN')}:80/gitops-image\"\n",
    "image"
   ]
  },
  {
   "cell_type": "code",
   "execution_count": 310,
   "metadata": {},
   "outputs": [],
   "source": [
    "# # Build Docker Image (only needs to be run once)\n",
    "# from mlrun import new_function\n",
    "\n",
    "# build_image = new_function(name=\"build-image\", kind=\"job\")\n",
    "# build_image.build_config(\n",
    "#     image=image,\n",
    "#     base_image=\"mlrun/mlrun\",\n",
    "#     commands=[\"pip install PyGithub\"]\n",
    "# )\n",
    "# build_image.deploy(with_mlrun=False)"
   ]
  },
  {
   "cell_type": "code",
   "execution_count": 311,
   "metadata": {},
   "outputs": [
    {
     "data": {
      "text/plain": [
       "'docker-registry.default-tenant.app.us-sales-eks.iguazio-cd0.com:80/gitops-image'"
      ]
     },
     "execution_count": 311,
     "metadata": {},
     "output_type": "execute_result"
    }
   ],
   "source": [
    "image"
   ]
  },
  {
   "cell_type": "markdown",
   "metadata": {},
   "source": [
    "### Import Functions"
   ]
  },
  {
   "cell_type": "code",
   "execution_count": 411,
   "metadata": {},
   "outputs": [
    {
     "data": {
      "text/plain": [
       "<mlrun.runtimes.function.RemoteRuntime at 0x7f0c7493c690>"
      ]
     },
     "execution_count": 411,
     "metadata": {},
     "output_type": "execute_result"
    }
   ],
   "source": [
    "project.set_function(name=\"gen-iris\",\n",
    "                    func=\"components/gen_iris.py\",\n",
    "                    kind=\"job\",\n",
    "                    image=image)\n",
    "project.set_function(name=\"describe\",\n",
    "                    func=\"hub://describe\",\n",
    "                    kind=\"job\",\n",
    "                    image=image)\n",
    "project.set_function(name=\"train\",\n",
    "                    func=\"components/sklearn_classifier.py\",\n",
    "                    kind=\"job\",\n",
    "                    image=image)\n",
    "project.set_function(name=\"test\",\n",
    "                    func=\"components/test_classifier.py\",\n",
    "                    kind=\"job\",\n",
    "                    image=image)\n",
    "project.set_function(name=\"serving\",\n",
    "                    func=\"hub://v2_model_server\",\n",
    "                    kind=\"serving\",\n",
    "                    image=image)\n",
    "project.set_function(name=\"live_tester\",\n",
    "                    func=\"components/model_server_tester.py\",\n",
    "                    kind=\"nuclio\",\n",
    "                    image=image)"
   ]
  },
  {
   "cell_type": "markdown",
   "metadata": {},
   "source": [
    "### Training Pipeline"
   ]
  },
  {
   "cell_type": "code",
   "execution_count": 412,
   "metadata": {},
   "outputs": [
    {
     "name": "stdout",
     "output_type": "stream",
     "text": [
      "Overwriting /User/mlrun-github-actions-demo/project/pipelines/train.py\n"
     ]
    }
   ],
   "source": [
    "%%writefile {path.join(project_path, 'pipelines/train.py')}\n",
    "from kfp import dsl\n",
    "from mlrun import mount_v3io, NewTask\n",
    "\n",
    "funcs = {}\n",
    "this_project = None\n",
    "DATASET = 'iris_dataset'\n",
    "LABELS  = \"label\"\n",
    "\n",
    "# init functions is used to configure function resources and local settings\n",
    "def init_functions(functions: dict, project=None, secrets=None):\n",
    "    for f in functions.values():\n",
    "        f.apply(mount_v3io())\n",
    "        f.set_env(\"GITHUB_TOKEN\", secrets.get(\"GITHUB_TOKEN\"))\n",
    "\n",
    "@dsl.pipeline(\n",
    "    name=\"Demo training pipeline\",\n",
    "    description=\"Shows how to use mlrun.\"\n",
    ")\n",
    "def kfpipeline(\n",
    "    existing_model_path:str=\"None\"\n",
    "):\n",
    "    \n",
    "    # run the ingestion function with the new image and params\n",
    "    ingest = funcs['gen-iris'].as_step(\n",
    "        name=\"get-data\",\n",
    "        handler='iris_generator',\n",
    "        params={'format': 'pq'},\n",
    "        outputs=[DATASET])\n",
    "\n",
    "    # analyze our dataset\n",
    "    describe = funcs[\"describe\"].as_step(\n",
    "        name=\"summary\",\n",
    "        params={\"label_column\": LABELS},\n",
    "        inputs={\"table\": ingest.outputs[DATASET]})\n",
    "    \n",
    "    # train with hyper-paremeters\n",
    "    train = funcs[\"train\"].as_step(\n",
    "        name=\"train\",\n",
    "        handler=\"train_model\",\n",
    "        params={\"sample\"          : -1,\n",
    "                \"label_column\"    : LABELS,\n",
    "                \"test_size\"       : 0.10},\n",
    "        hyperparams={'model_pkg_class': [\"sklearn.ensemble.RandomForestClassifier\",\n",
    "                                         \"sklearn.linear_model.LogisticRegression\",\n",
    "                                         \"sklearn.ensemble.AdaBoostClassifier\"]},\n",
    "        selector='max.accuracy',\n",
    "        inputs={\"dataset\"         : ingest.outputs[DATASET]},\n",
    "        labels={\"commit\": this_project.params.get('commit', '')},\n",
    "        outputs=['model', 'test_set'])\n",
    "\n",
    "    # test and visualize our model\n",
    "    test = funcs[\"test\"].as_step(\n",
    "        name=\"test\",\n",
    "        handler=\"test_classifier\",\n",
    "        params={\"label_column\": LABELS,\n",
    "                \"new_model_path\" : train.outputs['model'],\n",
    "                \"existing_model_path\" : existing_model_path,\n",
    "                \"comparison_metric\": \"accuracy\",\n",
    "                \"post_github\" : True},\n",
    "        inputs={\"test_set\"    : train.outputs['test_set']})\n",
    "\n",
    "#     # deploy our model as a serverless function\n",
    "#     deploy = funcs[\"serving\"].deploy_step(models={f\"{DATASET}_v1\": train.outputs['model']},\n",
    "#                                           tag=this_project.params.get('commit', 'v1'))\n",
    "\n",
    "#     # test out new model server (via REST API calls)\n",
    "#     tester = funcs[\"live_tester\"].as_step(name='model-tester',\n",
    "#         params={'addr': deploy.outputs['endpoint'], 'model': f\"{DATASET}_v1\"},\n",
    "#         inputs={'table': train.outputs['test_set']})"
   ]
  },
  {
   "cell_type": "markdown",
   "metadata": {},
   "source": [
    "### Deployment Pipeline"
   ]
  },
  {
   "cell_type": "code",
   "execution_count": 413,
   "metadata": {},
   "outputs": [
    {
     "name": "stdout",
     "output_type": "stream",
     "text": [
      "Overwriting /User/mlrun-github-actions-demo/project/pipelines/deploy.py\n"
     ]
    }
   ],
   "source": [
    "%%writefile {path.join(project_path, 'pipelines/deploy.py')}\n",
    "from kfp import dsl\n",
    "from mlrun import mount_v3io, NewTask\n",
    "import nuclio\n",
    "\n",
    "funcs = {}\n",
    "this_project = None\n",
    "DATASET = 'iris_dataset'\n",
    "LABELS  = \"label\"\n",
    "\n",
    "# init functions is used to configure function resources and local settings\n",
    "def init_functions(functions: dict, project=None, secrets=None):\n",
    "    for f in functions.values():\n",
    "        f.apply(mount_v3io())\n",
    "        f.set_env(\"GITHUB_TOKEN\", secrets.get(\"GITHUB_TOKEN\"))\n",
    "        \n",
    "    # Enable model monitoring\n",
    "    functions[\"serving\"].set_tracking()\n",
    "    functions[\"live_tester\"].add_trigger('cron', nuclio.triggers.CronTrigger(interval=\"1s\"))\n",
    "\n",
    "@dsl.pipeline(\n",
    "    name=\"Demo training pipeline\",\n",
    "    description=\"Shows how to use mlrun.\"\n",
    ")\n",
    "def kfpipeline(\n",
    "    model_path:str\n",
    "):\n",
    "\n",
    "    # deploy our model as a serverless function\n",
    "    deploy = funcs[\"serving\"].deploy_step(models={f\"model\": model_path},\n",
    "                                          tag=this_project.params.get('commit', 'v1'))\n",
    "\n",
    "    # test out new model server (via REST API calls)\n",
    "    tester = funcs[\"live_tester\"].deploy_step(env={\"addr\" : deploy.outputs[\"endpoint\"],\"model_path\" : model_path})"
   ]
  },
  {
   "cell_type": "markdown",
   "metadata": {},
   "source": [
    "### Add GitHub secret"
   ]
  },
  {
   "cell_type": "code",
   "execution_count": 414,
   "metadata": {},
   "outputs": [
    {
     "data": {
      "text/plain": [
       "<mlrun.projects.project.MlrunProject at 0x7f0c80a70250>"
      ]
     },
     "execution_count": 414,
     "metadata": {},
     "output_type": "execute_result"
    }
   ],
   "source": [
    "project.with_secrets(\"file\", \"ghtoken.txt\")"
   ]
  },
  {
   "cell_type": "markdown",
   "metadata": {},
   "source": [
    "### Save Pipeline"
   ]
  },
  {
   "cell_type": "code",
   "execution_count": 415,
   "metadata": {},
   "outputs": [],
   "source": [
    "project.set_workflow(\"train\", \"pipelines/train.py\")\n",
    "project.set_workflow(\"deploy\", \"pipelines/deploy.py\")\n",
    "project.save()"
   ]
  },
  {
   "cell_type": "markdown",
   "metadata": {},
   "source": [
    "### Run Train Pipeline"
   ]
  },
  {
   "cell_type": "code",
   "execution_count": 417,
   "metadata": {},
   "outputs": [],
   "source": [
    "# run_id = project.run(\"train\", arguments={\"existing_model_path\":\"store://models/gitops-project/train_model#2@139f410a-70b0-489d-a748-593167757909\"}, artifact_path=artifact_path, dirty=True, watch=True)"
   ]
  },
  {
   "cell_type": "markdown",
   "metadata": {},
   "source": [
    "### Run Deploy Pipeline"
   ]
  },
  {
   "cell_type": "code",
   "execution_count": 404,
   "metadata": {},
   "outputs": [
    {
     "data": {
      "text/html": [
       "Experiment link <a href=\"https://dashboard.default-tenant.app.us-sales-eks.iguazio-cd0.com/pipelines/#/experiments/details/3740b8ea-d34f-4bf4-98c2-68f2ce5a84a7\" target=\"_blank\" >here</a>"
      ],
      "text/plain": [
       "<IPython.core.display.HTML object>"
      ]
     },
     "metadata": {},
     "output_type": "display_data"
    },
    {
     "data": {
      "text/html": [
       "Run link <a href=\"https://dashboard.default-tenant.app.us-sales-eks.iguazio-cd0.com/pipelines/#/runs/details/593db78a-bb27-4979-b4a1-2a947017c315\" target=\"_blank\" >here</a>"
      ],
      "text/plain": [
       "<IPython.core.display.HTML object>"
      ]
     },
     "metadata": {},
     "output_type": "display_data"
    },
    {
     "name": "stdout",
     "output_type": "stream",
     "text": [
      "> 2021-07-31 00:27:36,102 [info] Pipeline run id=593db78a-bb27-4979-b4a1-2a947017c315, check UI or DB for progress\n",
      "> 2021-07-31 00:27:36,103 [info] waiting for pipeline run completion\n"
     ]
    },
    {
     "data": {
      "text/html": [
       "Workflow 593db78a-bb27-4979-b4a1-2a947017c315 finished, status=Succeeded"
      ],
      "text/plain": [
       "<IPython.core.display.HTML object>"
      ]
     },
     "metadata": {},
     "output_type": "display_data"
    }
   ],
   "source": [
    "run_id = project.run(\"deploy\", arguments={\"model_path\":\"store://models/gitops-project/train_model#2@3f49ccb6-895c-4e0d-848a-79a81108e248\"}, artifact_path=artifact_path, dirty=True, watch=True)"
   ]
  },
  {
   "cell_type": "code",
   "execution_count": 397,
   "metadata": {},
   "outputs": [
    {
     "name": "stdout",
     "output_type": "stream",
     "text": [
      "^C\n"
     ]
    }
   ],
   "source": [
    "!curl http://default-tenant.app.us-sales-eks.iguazio-cd0.com:32344/"
   ]
  },
  {
   "cell_type": "code",
   "execution_count": null,
   "metadata": {},
   "outputs": [],
   "source": []
  }
 ],
 "metadata": {
  "kernelspec": {
   "display_name": "Python [conda env:root] *",
   "language": "python",
   "name": "conda-root-py"
  },
  "language_info": {
   "codemirror_mode": {
    "name": "ipython",
    "version": 3
   },
   "file_extension": ".py",
   "mimetype": "text/x-python",
   "name": "python",
   "nbconvert_exporter": "python",
   "pygments_lexer": "ipython3",
   "version": "3.7.6"
  }
 },
 "nbformat": 4,
 "nbformat_minor": 4
}
