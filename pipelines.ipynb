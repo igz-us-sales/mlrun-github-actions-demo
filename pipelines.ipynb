{
 "cells": [
  {
   "cell_type": "markdown",
   "metadata": {},
   "source": [
    "### Setup MLRun Project"
   ]
  },
  {
   "cell_type": "code",
   "execution_count": 32,
   "metadata": {},
   "outputs": [
    {
     "name": "stderr",
     "output_type": "stream",
     "text": [
      "'user_project' and 'project' are deprecated in 1.3.0, and will be removed in 1.5.0, use project APIs such as 'get_or_create_project', 'load_project' to configure the active project.\n"
     ]
    }
   ],
   "source": [
    "import os\n",
    "from os import path\n",
    "from mlrun import set_environment, get_or_create_project, mlconf\n",
    "\n",
    "# Set the default environment configuration\n",
    "project_name, artifact_path = set_environment(project=\"gitops-project\", artifact_path='v3io:///users/{{run.user}}/pipe/{{workflow.uid}}')\n",
    "\n",
    "# # Create project\n",
    "project_path = path.abspath(\"project\")\n",
    "project = get_or_create_project(name=project_name, context=project_path)"
   ]
  },
  {
   "cell_type": "code",
   "execution_count": 33,
   "metadata": {},
   "outputs": [],
   "source": [
    "project.set_model_monitoring_credentials(os.environ.get(\"V3IO_ACCESS_KEY\"))"
   ]
  },
  {
   "cell_type": "markdown",
   "metadata": {},
   "source": [
    "### Build Docker Image"
   ]
  },
  {
   "cell_type": "code",
   "execution_count": 34,
   "metadata": {},
   "outputs": [
    {
     "data": {
      "text/plain": [
       "'docker-registry.default-tenant.app.cst-353.iguazio-cd1.com/gitops-image:latest'"
      ]
     },
     "execution_count": 34,
     "metadata": {},
     "output_type": "execute_result"
    }
   ],
   "source": [
    "image = f\"docker-registry.{os.getenv('IGZ_NAMESPACE_DOMAIN')}/gitops-image:latest\"\n",
    "# image = \".xingsheng/gitops-image\"\n",
    "image"
   ]
  },
  {
   "cell_type": "code",
   "execution_count": 35,
   "metadata": {},
   "outputs": [],
   "source": [
    "# Build Docker Image (only needs to be run once)\n",
    "# from mlrun import new_function\n",
    "\n",
    "# build_image = new_function(name=\"build-image\", kind=\"job\")\n",
    "# build_image.build_config(\n",
    "#     image=image,\n",
    "#     base_image=\"mlrun/mlrun\",\n",
    "#     commands=[\"pip install PyGithub\"]\n",
    "# )\n",
    "# build_image.deploy(with_mlrun=False)"
   ]
  },
  {
   "cell_type": "code",
   "execution_count": 36,
   "metadata": {},
   "outputs": [
    {
     "data": {
      "text/plain": [
       "'docker-registry.default-tenant.app.cst-353.iguazio-cd1.com/gitops-image:latest'"
      ]
     },
     "execution_count": 36,
     "metadata": {},
     "output_type": "execute_result"
    }
   ],
   "source": [
    "image"
   ]
  },
  {
   "cell_type": "markdown",
   "metadata": {},
   "source": [
    "### Import Functions"
   ]
  },
  {
   "cell_type": "code",
   "execution_count": 61,
   "metadata": {},
   "outputs": [
    {
     "data": {
      "text/plain": [
       "<mlrun.runtimes.function.RemoteRuntime at 0x7f3e83b96400>"
      ]
     },
     "execution_count": 61,
     "metadata": {},
     "output_type": "execute_result"
    }
   ],
   "source": [
    "project.set_function(name=\"gen-iris\",\n",
    "                    func=\"components/gen_iris.py\",\n",
    "                    kind=\"job\",\n",
    "                    image=image)\n",
    "project.set_function(name=\"describe\",\n",
    "                    func=\"hub://describe\",\n",
    "                    kind=\"job\",\n",
    "                    image=image)\n",
    "project.set_function(name=\"train\",\n",
    "                    func=\"components/train.py\",\n",
    "                    kind=\"job\",\n",
    "                    image=image)\n",
    "project.set_function(name=\"test\",\n",
    "                    func=\"components/test_classifier.py\",\n",
    "                    kind=\"job\",\n",
    "                    image=image)\n",
    "project.set_function(name=\"serving\",\n",
    "                    func=\"hub://v2_model_server\",\n",
    "                    kind=\"serving\",\n",
    "                    image=image)\n",
    "project.set_function(name=\"live-tester\",\n",
    "                    func=\"components/model_server_tester.py\",\n",
    "                    kind=\"nuclio\",\n",
    "                    image=image)\n",
    "project.set_function(name=\"drift-watcher\",\n",
    "                    func=\"components/drift_watcher.py\",\n",
    "                    kind=\"nuclio\",\n",
    "                    image=image)"
   ]
  },
  {
   "cell_type": "markdown",
   "metadata": {},
   "source": [
    "### Training Pipeline"
   ]
  },
  {
   "cell_type": "code",
   "execution_count": 62,
   "metadata": {},
   "outputs": [
    {
     "name": "stdout",
     "output_type": "stream",
     "text": [
      "Overwriting /User/github-actions-demo/project/pipelines/train.py\n"
     ]
    }
   ],
   "source": [
    "%%writefile {path.join(project_path, 'pipelines/train.py')}\n",
    "from kfp import dsl\n",
    "from mlrun import mount_v3io\n",
    "\n",
    "funcs = {}\n",
    "this_project = None\n",
    "DATASET = 'iris_dataset'\n",
    "LABELS  = \"label\"\n",
    "\n",
    "# init functions is used to configure function resources and local settings\n",
    "def init_functions(functions: dict, project=None, secrets=None):\n",
    "    for f in functions.values():\n",
    "        f.apply(mount_v3io())\n",
    "        f.set_env(\"GITHUB_TOKEN\", secrets.get(\"MY_GITHUB_TOKEN\"))\n",
    "\n",
    "@dsl.pipeline(\n",
    "    name=\"GitOps Training Pipeline\",\n",
    "    description=\"Train a model\"\n",
    ")\n",
    "def kfpipeline(\n",
    "    existing_model_path:str=\"None\",\n",
    "    force_deploy:bool=False,\n",
    "):\n",
    "    \n",
    "    # run the ingestion function with the new image and params\n",
    "    ingest = funcs['gen-iris'].as_step(\n",
    "        name=\"get-data\",\n",
    "        handler='iris_generator',\n",
    "        params={'format': 'pq'},\n",
    "        outputs=[DATASET])\n",
    "\n",
    "    # analyze our dataset\n",
    "    describe = funcs[\"describe\"].as_step(\n",
    "        name=\"summary\",\n",
    "        params={\"label_column\": LABELS},\n",
    "        inputs={\"table\": ingest.outputs[DATASET]})\n",
    "    \n",
    "    # train with hyper-paremeters\n",
    "    # train = funcs[\"train\"].as_step(\n",
    "    #     name=\"train\",\n",
    "    #     handler=\"train_model\",\n",
    "    #     params={\"sample\"          : -1,\n",
    "    #             \"label_column\"    : LABELS,\n",
    "    #             \"test_size\"       : 0.10},\n",
    "    #     hyperparams={'model_pkg_class': [\"sklearn.ensemble.RandomForestClassifier\",\n",
    "    #                                      \"sklearn.linear_model.LogisticRegression\",\n",
    "    #                                      \"sklearn.ensemble.AdaBoostClassifier\"]},\n",
    "    #     selector='max.accuracy',\n",
    "    #     inputs={\"dataset\"         : ingest.outputs[DATASET]},\n",
    "    #     labels={\"commit\": this_project.params.get('commit', '')},\n",
    "    #     outputs=['model', 'test_set'])\n",
    "    train = funcs[\"train\"].as_step(\n",
    "        name=\"train\",\n",
    "        handler=\"train_model\",\n",
    "        inputs={\"dataset\": ingest.outputs[DATASET]},\n",
    "        params={\n",
    "            \"label_column\": LABELS,\n",
    "            \"test_size\" : 0.10\n",
    "        },\n",
    "        outputs=['model', 'test_set']\n",
    "    )\n",
    "\n",
    "    # test and visualize our model\n",
    "    test = funcs[\"test\"].as_step(\n",
    "        name=\"test\",\n",
    "        handler=\"test_classifier\",\n",
    "        params={\"label_column\": LABELS,\n",
    "                \"new_model_path\" : train.outputs['model'],\n",
    "                \"existing_model_path\" : existing_model_path,\n",
    "                \"comparison_metric\": \"accuracy\",\n",
    "                \"post_github\" : True,\n",
    "                \"force_deploy\" : force_deploy},\n",
    "        inputs={\"test_set\"    : train.outputs['test_set']})"
   ]
  },
  {
   "cell_type": "markdown",
   "metadata": {},
   "source": [
    "### Deployment Pipeline"
   ]
  },
  {
   "cell_type": "code",
   "execution_count": 63,
   "metadata": {},
   "outputs": [
    {
     "name": "stdout",
     "output_type": "stream",
     "text": [
      "Overwriting /User/github-actions-demo/project/pipelines/deploy.py\n"
     ]
    }
   ],
   "source": [
    "%%writefile {path.join(project_path, 'pipelines/deploy.py')}\n",
    "from kfp import dsl\n",
    "from mlrun import mount_v3io\n",
    "import nuclio\n",
    "\n",
    "funcs = {}\n",
    "this_project = None\n",
    "DATASET = 'iris_dataset'\n",
    "LABELS  = \"label\"\n",
    "\n",
    "# init functions is used to configure function resources and local settings\n",
    "def init_functions(functions: dict, project=None, secrets=None):\n",
    "    for f in functions.values():\n",
    "        f.apply(mount_v3io())\n",
    "        f.set_env(\"GITHUB_TOKEN\", secrets.get(\"MY_GITHUB_TOKEN\"))\n",
    "        \n",
    "    # Enable model monitoring\n",
    "    functions[\"serving\"].set_tracking()\n",
    "    functions[\"live-tester\"].add_trigger('cron', nuclio.triggers.CronTrigger(interval=\"1s\"))\n",
    "    functions[\"drift-watcher\"].add_v3io_stream_trigger(name=\"stream\",\n",
    "                                                       stream_path=f\"projects/{project.metadata.name}/model-endpoints/log_stream\",\n",
    "                                                       seek_to=\"latest\")\n",
    "    \n",
    "@dsl.pipeline(\n",
    "    name=\"GitOps Deployment Pipeline\",\n",
    "    description=\"Deploy a model.\"\n",
    ")\n",
    "def kfpipeline(\n",
    "    model_path:str=\"None\"\n",
    "):\n",
    "\n",
    "    # deploy our model as a serverless function\n",
    "    deploy = funcs[\"serving\"].deploy_step(models={f\"model\": model_path})\n",
    "\n",
    "    # test out new model server (via REST API calls)\n",
    "    tester = funcs[\"live-tester\"].deploy_step(env={\"addr\" : deploy.outputs[\"endpoint\"],\"model_path\" : model_path})\n",
    "    \n",
    "    # drift watcher to post on github\n",
    "    watcher = funcs[\"drift-watcher\"].deploy_step().after(deploy)"
   ]
  },
  {
   "cell_type": "markdown",
   "metadata": {},
   "source": [
    "### Add GitHub secret"
   ]
  },
  {
   "cell_type": "code",
   "execution_count": 72,
   "metadata": {},
   "outputs": [
    {
     "data": {
      "text/plain": [
       "<mlrun.projects.project.MlrunProject at 0x7f3e83e3cfa0>"
      ]
     },
     "execution_count": 72,
     "metadata": {},
     "output_type": "execute_result"
    }
   ],
   "source": [
    "project.with_secrets(\"file\", \"ghtoken.txt\")"
   ]
  },
  {
   "cell_type": "markdown",
   "metadata": {},
   "source": [
    "### Save Pipeline"
   ]
  },
  {
   "cell_type": "code",
   "execution_count": 73,
   "metadata": {},
   "outputs": [
    {
     "data": {
      "text/plain": [
       "<mlrun.projects.project.MlrunProject at 0x7f3e83e3cfa0>"
      ]
     },
     "execution_count": 73,
     "metadata": {},
     "output_type": "execute_result"
    }
   ],
   "source": [
    "project.set_workflow(\"train\", \"pipelines/train.py\")\n",
    "project.set_workflow(\"deploy\", \"pipelines/deploy.py\")\n",
    "project.save()"
   ]
  },
  {
   "cell_type": "markdown",
   "metadata": {},
   "source": [
    "### Run Train Pipeline"
   ]
  },
  {
   "cell_type": "code",
   "execution_count": 74,
   "metadata": {},
   "outputs": [],
   "source": [
    "# Before training, let's check the sklearn version\n",
    "# from sklearn import metrics\n",
    "# print(sklearn.__version__)\n",
    "# print(metrics.plot_confusion_matrix)"
   ]
  },
  {
   "cell_type": "code",
   "execution_count": 75,
   "metadata": {},
   "outputs": [
    {
     "data": {
      "text/html": [
       "<div>Pipeline running (id=b296b9fc-b666-43c4-b67a-5e3c165b8a2b), <a href=\"https://dashboard.default-tenant.app.cst-353.iguazio-cd1.com/mlprojects/gitops-project/jobs/monitor-workflows/workflow/b296b9fc-b666-43c4-b67a-5e3c165b8a2b\" target=\"_blank\"><b>click here</b></a> to view the details in MLRun UI</div>"
      ],
      "text/plain": [
       "<IPython.core.display.HTML object>"
      ]
     },
     "metadata": {},
     "output_type": "display_data"
    },
    {
     "data": {
      "image/svg+xml": [
       "<?xml version=\"1.0\" encoding=\"UTF-8\" standalone=\"no\"?>\n",
       "<!DOCTYPE svg PUBLIC \"-//W3C//DTD SVG 1.1//EN\"\n",
       " \"http://www.w3.org/Graphics/SVG/1.1/DTD/svg11.dtd\">\n",
       "<!-- Generated by graphviz version 2.43.0 (0)\n",
       " -->\n",
       "<!-- Title: kfp Pages: 1 -->\n",
       "<svg width=\"200pt\" height=\"188pt\"\n",
       " viewBox=\"0.00 0.00 200.09 188.00\" xmlns=\"http://www.w3.org/2000/svg\" xmlns:xlink=\"http://www.w3.org/1999/xlink\">\n",
       "<g id=\"graph0\" class=\"graph\" transform=\"scale(1 1) rotate(0) translate(4 184)\">\n",
       "<title>kfp</title>\n",
       "<polygon fill=\"white\" stroke=\"transparent\" points=\"-4,4 -4,-184 196.09,-184 196.09,4 -4,4\"/>\n",
       "<!-- gitops&#45;training&#45;pipeline&#45;f4tfj&#45;1784074568 -->\n",
       "<g id=\"node1\" class=\"node\">\n",
       "<title>gitops&#45;training&#45;pipeline&#45;f4tfj&#45;1784074568</title>\n",
       "<ellipse fill=\"green\" stroke=\"black\" cx=\"33.15\" cy=\"-90\" rx=\"33.29\" ry=\"18\"/>\n",
       "<text text-anchor=\"middle\" x=\"33.15\" y=\"-86.3\" font-family=\"Times,serif\" font-size=\"14.00\">train</text>\n",
       "</g>\n",
       "<!-- gitops&#45;training&#45;pipeline&#45;f4tfj&#45;2762734410 -->\n",
       "<g id=\"node2\" class=\"node\">\n",
       "<title>gitops&#45;training&#45;pipeline&#45;f4tfj&#45;2762734410</title>\n",
       "<ellipse fill=\"green\" stroke=\"black\" cx=\"33.15\" cy=\"-18\" rx=\"28.7\" ry=\"18\"/>\n",
       "<text text-anchor=\"middle\" x=\"33.15\" y=\"-14.3\" font-family=\"Times,serif\" font-size=\"14.00\">test</text>\n",
       "</g>\n",
       "<!-- gitops&#45;training&#45;pipeline&#45;f4tfj&#45;1784074568&#45;&gt;gitops&#45;training&#45;pipeline&#45;f4tfj&#45;2762734410 -->\n",
       "<g id=\"edge1\" class=\"edge\">\n",
       "<title>gitops&#45;training&#45;pipeline&#45;f4tfj&#45;1784074568&#45;&gt;gitops&#45;training&#45;pipeline&#45;f4tfj&#45;2762734410</title>\n",
       "<path fill=\"none\" stroke=\"black\" d=\"M33.15,-71.7C33.15,-63.98 33.15,-54.71 33.15,-46.11\"/>\n",
       "<polygon fill=\"black\" stroke=\"black\" points=\"36.65,-46.1 33.15,-36.1 29.65,-46.1 36.65,-46.1\"/>\n",
       "</g>\n",
       "<!-- gitops&#45;training&#45;pipeline&#45;f4tfj&#45;1802740385 -->\n",
       "<g id=\"node3\" class=\"node\">\n",
       "<title>gitops&#45;training&#45;pipeline&#45;f4tfj&#45;1802740385</title>\n",
       "<ellipse fill=\"green\" stroke=\"black\" cx=\"85.15\" cy=\"-162\" rx=\"49.29\" ry=\"18\"/>\n",
       "<text text-anchor=\"middle\" x=\"85.15\" y=\"-158.3\" font-family=\"Times,serif\" font-size=\"14.00\">get&#45;data</text>\n",
       "</g>\n",
       "<!-- gitops&#45;training&#45;pipeline&#45;f4tfj&#45;1802740385&#45;&gt;gitops&#45;training&#45;pipeline&#45;f4tfj&#45;1784074568 -->\n",
       "<g id=\"edge3\" class=\"edge\">\n",
       "<title>gitops&#45;training&#45;pipeline&#45;f4tfj&#45;1802740385&#45;&gt;gitops&#45;training&#45;pipeline&#45;f4tfj&#45;1784074568</title>\n",
       "<path fill=\"none\" stroke=\"black\" d=\"M72.82,-144.41C66.32,-135.66 58.22,-124.75 51.04,-115.08\"/>\n",
       "<polygon fill=\"black\" stroke=\"black\" points=\"53.8,-112.93 45.02,-106.99 48.18,-117.1 53.8,-112.93\"/>\n",
       "</g>\n",
       "<!-- gitops&#45;training&#45;pipeline&#45;f4tfj&#45;652691222 -->\n",
       "<g id=\"node4\" class=\"node\">\n",
       "<title>gitops&#45;training&#45;pipeline&#45;f4tfj&#45;652691222</title>\n",
       "<ellipse fill=\"green\" stroke=\"black\" cx=\"138.15\" cy=\"-90\" rx=\"53.89\" ry=\"18\"/>\n",
       "<text text-anchor=\"middle\" x=\"138.15\" y=\"-86.3\" font-family=\"Times,serif\" font-size=\"14.00\">summary</text>\n",
       "</g>\n",
       "<!-- gitops&#45;training&#45;pipeline&#45;f4tfj&#45;1802740385&#45;&gt;gitops&#45;training&#45;pipeline&#45;f4tfj&#45;652691222 -->\n",
       "<g id=\"edge2\" class=\"edge\">\n",
       "<title>gitops&#45;training&#45;pipeline&#45;f4tfj&#45;1802740385&#45;&gt;gitops&#45;training&#45;pipeline&#45;f4tfj&#45;652691222</title>\n",
       "<path fill=\"none\" stroke=\"black\" d=\"M97.71,-144.41C104.08,-135.99 111.96,-125.58 119.07,-116.2\"/>\n",
       "<polygon fill=\"black\" stroke=\"black\" points=\"122.06,-118.04 125.31,-107.96 116.48,-113.82 122.06,-118.04\"/>\n",
       "</g>\n",
       "</g>\n",
       "</svg>\n"
      ],
      "text/plain": [
       "<graphviz.graphs.Digraph at 0x7f3e83e0e7c0>"
      ]
     },
     "metadata": {},
     "output_type": "display_data"
    },
    {
     "data": {
      "text/html": [
       "<h2>Run Results</h2><h3>[info] Workflow b296b9fc-b666-43c4-b67a-5e3c165b8a2b finished, state=Succeeded</h3><br>click the hyper links below to see detailed results<br><table border=\"1\" class=\"dataframe\">\n",
       "  <thead>\n",
       "    <tr style=\"text-align: right;\">\n",
       "      <th>uid</th>\n",
       "      <th>start</th>\n",
       "      <th>state</th>\n",
       "      <th>name</th>\n",
       "      <th>parameters</th>\n",
       "      <th>results</th>\n",
       "    </tr>\n",
       "  </thead>\n",
       "  <tbody>\n",
       "    <tr>\n",
       "      <td><div title=\"5fb6ab6546964364a86fd206829e64ea\"><a href=\"https://dashboard.default-tenant.app.cst-353.iguazio-cd1.com/mlprojects/gitops-project/jobs/monitor/5fb6ab6546964364a86fd206829e64ea/overview\" target=\"_blank\" >...829e64ea</a></div></td>\n",
       "      <td>Jun 29 21:07:16</td>\n",
       "      <td>completed</td>\n",
       "      <td>test</td>\n",
       "      <td><div class=\"dictlist\">label_column=label</div><div class=\"dictlist\">new_model_path=store://artifacts/gitops-project/model:b296b9fc-b666-43c4-b67a-5e3c165b8a2b</div><div class=\"dictlist\">existing_model_path=None</div><div class=\"dictlist\">comparison_metric=accuracy</div><div class=\"dictlist\">post_github=True</div><div class=\"dictlist\">force_deploy=False</div></td>\n",
       "      <td><div class=\"dictlist\">accuracy-new_model=1.0</div><div class=\"dictlist\">test-error-new_model=0.0</div><div class=\"dictlist\">f1-new_model=1.0</div><div class=\"dictlist\">precision-new_model=1.0</div><div class=\"dictlist\">recall-new_model=1.0</div></td>\n",
       "    </tr>\n",
       "    <tr>\n",
       "      <td><div title=\"265309ac8e904df98c5834b26649593b\"><a href=\"https://dashboard.default-tenant.app.cst-353.iguazio-cd1.com/mlprojects/gitops-project/jobs/monitor/265309ac8e904df98c5834b26649593b/overview\" target=\"_blank\" >...6649593b</a></div></td>\n",
       "      <td>Jun 29 21:06:37</td>\n",
       "      <td>completed</td>\n",
       "      <td>summary</td>\n",
       "      <td><div class=\"dictlist\">label_column=label</div></td>\n",
       "      <td></td>\n",
       "    </tr>\n",
       "    <tr>\n",
       "      <td><div title=\"409dc3b0501e48bc8f559446fbf0602f\"><a href=\"https://dashboard.default-tenant.app.cst-353.iguazio-cd1.com/mlprojects/gitops-project/jobs/monitor/409dc3b0501e48bc8f559446fbf0602f/overview\" target=\"_blank\" >...fbf0602f</a></div></td>\n",
       "      <td>Jun 29 21:06:36</td>\n",
       "      <td>completed</td>\n",
       "      <td>train</td>\n",
       "      <td><div class=\"dictlist\">label_column=label</div><div class=\"dictlist\">test_size=0.1</div></td>\n",
       "      <td><div class=\"dictlist\">accuracy=1.0</div><div class=\"dictlist\">f1_score=1.0</div><div class=\"dictlist\">precision_score=1.0</div><div class=\"dictlist\">recall_score=1.0</div><div class=\"dictlist\">auc-micro=1.0</div><div class=\"dictlist\">auc-macro=1.0</div><div class=\"dictlist\">auc-weighted=1.0</div></td>\n",
       "    </tr>\n",
       "    <tr>\n",
       "      <td><div title=\"82c041408fdb41fe9df5f9e1564bbab2\"><a href=\"https://dashboard.default-tenant.app.cst-353.iguazio-cd1.com/mlprojects/gitops-project/jobs/monitor/82c041408fdb41fe9df5f9e1564bbab2/overview\" target=\"_blank\" >...564bbab2</a></div></td>\n",
       "      <td>Jun 29 21:05:54</td>\n",
       "      <td>completed</td>\n",
       "      <td>get-data</td>\n",
       "      <td><div class=\"dictlist\">format=pq</div></td>\n",
       "      <td></td>\n",
       "    </tr>\n",
       "  </tbody>\n",
       "</table>"
      ],
      "text/plain": [
       "<IPython.core.display.HTML object>"
      ]
     },
     "metadata": {},
     "output_type": "display_data"
    }
   ],
   "source": [
    "run_id = project.run(\"train\", arguments={}, artifact_path=artifact_path, dirty=True, watch=True)"
   ]
  },
  {
   "cell_type": "code",
   "execution_count": 14,
   "metadata": {},
   "outputs": [],
   "source": [
    "# run_id = project.run(\"train\", arguments={\"existing_model_path\":\"store://models/gitops-project/train_model#2\"}, artifact_path=artifact_path, dirty=True, watch=True)"
   ]
  },
  {
   "cell_type": "markdown",
   "metadata": {},
   "source": [
    "### Run Deploy Pipeline"
   ]
  },
  {
   "cell_type": "code",
   "execution_count": null,
   "metadata": {},
   "outputs": [],
   "source": [
    "run_id = project.run(\"deploy\", arguments={\"model_path\":\"store://models/gitops-project/train_model#2\"}, artifact_path=artifact_path, dirty=True, watch=True)"
   ]
  },
  {
   "cell_type": "code",
   "execution_count": 16,
   "metadata": {},
   "outputs": [
    {
     "name": "stdout",
     "output_type": "stream",
     "text": [
      "{\"name\": \"ModelRouter\", \"version\": \"v2\", \"extensions\": []}"
     ]
    }
   ],
   "source": [
    "!curl https://gitops-project-serving-gitops-project.default-tenant.app.cst-353.iguazio-cd1.com"
   ]
  },
  {
   "cell_type": "code",
   "execution_count": 17,
   "metadata": {},
   "outputs": [],
   "source": [
    "import mlrun\n",
    "training_set_path = mlrun.get_sample_path('data/model-monitoring/iris_dataset.csv')\n",
    "predict_url = \"https://gitops-project-serving-gitops-project.default-tenant.app.cst-353.iguazio-cd1.com\""
   ]
  },
  {
   "cell_type": "code",
   "execution_count": 18,
   "metadata": {},
   "outputs": [
    {
     "data": {
      "application/vnd.jupyter.widget-view+json": {
       "model_id": "113ec11eeaca4f20803d80622cf4c443",
       "version_major": 2,
       "version_minor": 0
      },
      "text/plain": [
       "  0%|          | 0/12000 [00:00<?, ?it/s]"
      ]
     },
     "metadata": {},
     "output_type": "display_data"
    },
    {
     "name": "stderr",
     "output_type": "stream",
     "text": [
      "IOPub message rate exceeded.\n",
      "The Jupyter server will temporarily stop sending output\n",
      "to the client in order to avoid crashing it.\n",
      "To change this limit, set the config variable\n",
      "`--ServerApp.iopub_msg_rate_limit`.\n",
      "\n",
      "Current values:\n",
      "ServerApp.iopub_msg_rate_limit=1000.0 (msgs/sec)\n",
      "ServerApp.rate_limit_window=3.0 (secs)\n",
      "\n"
     ]
    },
    {
     "ename": "KeyboardInterrupt",
     "evalue": "",
     "output_type": "error",
     "traceback": [
      "\u001b[0;31m---------------------------------------------------------------------------\u001b[0m",
      "\u001b[0;31mKeyboardInterrupt\u001b[0m                         Traceback (most recent call last)",
      "Cell \u001b[0;32mIn[18], line 21\u001b[0m\n\u001b[1;32m     19\u001b[0m     resp \u001b[38;5;241m=\u001b[39m requests\u001b[38;5;241m.\u001b[39mpost(predict_url, json\u001b[38;5;241m=\u001b[39mjson\u001b[38;5;241m.\u001b[39mdumps({\u001b[38;5;124m'\u001b[39m\u001b[38;5;124minputs\u001b[39m\u001b[38;5;124m'\u001b[39m: [data_point]}))\n\u001b[1;32m     20\u001b[0m     resp\u001b[38;5;241m.\u001b[39mjson()\n\u001b[0;32m---> 21\u001b[0m     \u001b[43msleep\u001b[49m\u001b[43m(\u001b[49m\u001b[43muniform\u001b[49m\u001b[43m(\u001b[49m\u001b[38;5;241;43m1\u001b[39;49m\u001b[43m,\u001b[49m\u001b[43m \u001b[49m\u001b[38;5;241;43m10\u001b[39;49m\u001b[43m)\u001b[49m\u001b[43m)\u001b[49m\n\u001b[1;32m     22\u001b[0m \u001b[38;5;66;03m# Resume normal logging\u001b[39;00m\n\u001b[1;32m     23\u001b[0m logging\u001b[38;5;241m.\u001b[39mgetLogger(name\u001b[38;5;241m=\u001b[39m\u001b[38;5;124m\"\u001b[39m\u001b[38;5;124mmlrun\u001b[39m\u001b[38;5;124m\"\u001b[39m)\u001b[38;5;241m.\u001b[39msetLevel(logging\u001b[38;5;241m.\u001b[39mINFO)\n",
      "\u001b[0;31mKeyboardInterrupt\u001b[0m: "
     ]
    }
   ],
   "source": [
    "import json\n",
    "import logging\n",
    "from random import choice, uniform\n",
    "from time import sleep\n",
    "import pandas as pd\n",
    "from tqdm.notebook import tqdm\n",
    "import requests\n",
    "\n",
    "# Suppress print messages\n",
    "logging.getLogger(name=\"mlrun\").setLevel(logging.WARNING)\n",
    "\n",
    "# Get training set as list\n",
    "iris_data = pd.read_csv(training_set_path).drop(\"label\", axis=1).to_dict(orient=\"split\")[\"data\"]\n",
    "\n",
    "# Simulate traffic using random elements from training set\n",
    "\n",
    "for i in tqdm(range(12_000)):\n",
    "    data_point = choice(iris_data)\n",
    "    resp = requests.post(predict_url, json=json.dumps({'inputs': [data_point]}))\n",
    "    resp.json()\n",
    "    sleep(uniform(1, 10))\n",
    "# Resume normal logging\n",
    "logging.getLogger(name=\"mlrun\").setLevel(logging.INFO)"
   ]
  },
  {
   "cell_type": "code",
   "execution_count": 20,
   "metadata": {},
   "outputs": [
    {
     "name": "stdout",
     "output_type": "stream",
     "text": [
      "Loading project gitops-project into ./project:\n",
      "\n",
      "kind: project\n",
      "metadata:\n",
      "  name: gitops-project\n",
      "  created: '2023-06-26T17:33:24.659000'\n",
      "spec:\n",
      "  functions:\n",
      "  - url: components/gen_iris.py\n",
      "    name: gen-iris\n",
      "    kind: job\n",
      "    image: docker-registry.default-tenant.app.cst-353.iguazio-cd1.com/gitops-image:latest\n",
      "  - url: hub://describe\n",
      "    name: describe\n",
      "    kind: job\n",
      "    image: docker-registry.default-tenant.app.cst-353.iguazio-cd1.com/gitops-image:latest\n",
      "  - url: components/sklearn_classifier.py\n",
      "    name: train\n",
      "    kind: job\n",
      "    image: docker-registry.default-tenant.app.cst-353.iguazio-cd1.com/gitops-image:latest\n",
      "  - url: components/test_classifier.py\n",
      "    name: test\n",
      "    kind: job\n",
      "    image: docker-registry.default-tenant.app.cst-353.iguazio-cd1.com/gitops-image:latest\n",
      "  - url: hub://v2_model_server\n",
      "    name: serving\n",
      "    kind: serving\n",
      "    image: docker-registry.default-tenant.app.cst-353.iguazio-cd1.com/gitops-image:latest\n",
      "  - url: components/model_server_tester.py\n",
      "    name: live-tester\n",
      "    kind: nuclio\n",
      "    image: docker-registry.default-tenant.app.cst-353.iguazio-cd1.com/gitops-image:latest\n",
      "  - url: components/drift_watcher.py\n",
      "    name: drift-watcher\n",
      "    kind: nuclio\n",
      "    image: docker-registry.default-tenant.app.cst-353.iguazio-cd1.com/gitops-image:latest\n",
      "  workflows:\n",
      "  - path: pipelines/train.py\n",
      "    name: train\n",
      "  - path: pipelines/deploy.py\n",
      "    name: deploy\n",
      "  artifacts: []\n",
      "  artifact_path: v3io:///users/{{run.user}}/pipe/{{workflow.uid}}\n",
      "  conda: ''\n",
      "  source: ''\n",
      "  origin_url: ''\n",
      "  desired_state: online\n",
      "status:\n",
      "  state: online\n",
      "\n",
      "running workflow None file: ./pipelines/deploy.py\n",
      "'init_functions' is deprecated in 1.3.0 and will be removed in 1.5.0. Place function initialization in the pipeline code.\n",
      "> 2023-06-29 16:11:31,660 [info] submitted pipeline gitops-project 2023-06-29 16-11-31 id=bc1c6d81-f30d-4f7a-8d1f-dbbe7ce52a08\n",
      "> 2023-06-29 16:11:31,661 [info] Pipeline run id=bc1c6d81-f30d-4f7a-8d1f-dbbe7ce52a08, check UI for progress\n",
      "[info] Pipeline started in project gitops-project id=bc1c6d81-f30d-4f7a-8d1f-dbbe7ce52a08, check progress in https://dashboard.default-tenant.app.cst-353.iguazio-cd1.com/mlprojects/gitops-project/jobs/monitor-workflows/workflow/bc1c6d81-f30d-4f7a-8d1f-dbbe7ce52a08\n",
      "> 2023-06-29 16:11:31,700 [info] started run workflow gitops-project with run id = 'bc1c6d81-f30d-4f7a-8d1f-dbbe7ce52a08' by kfp engine\n",
      "> 2023-06-29 16:11:31,700 [info] waiting for pipeline run completion\n",
      "[info] Workflow bc1c6d81-f30d-4f7a-8d1f-dbbe7ce52a08 finished, state=Succeeded\n"
     ]
    }
   ],
   "source": [
    "  !python -m mlrun project ./project \\\n",
    "  -w  -r ./pipelines/deploy.py \\\n",
    "  -a model_path=\"store://models/gitops-project/train_model#2\""
   ]
  },
  {
   "cell_type": "code",
   "execution_count": null,
   "metadata": {},
   "outputs": [],
   "source": []
  }
 ],
 "metadata": {
  "kernelspec": {
   "display_name": "mlrun-base",
   "language": "python",
   "name": "conda-env-mlrun-base-py"
  },
  "language_info": {
   "codemirror_mode": {
    "name": "ipython",
    "version": 3
   },
   "file_extension": ".py",
   "mimetype": "text/x-python",
   "name": "python",
   "nbconvert_exporter": "python",
   "pygments_lexer": "ipython3",
   "version": "3.9.16"
  }
 },
 "nbformat": 4,
 "nbformat_minor": 4
}
