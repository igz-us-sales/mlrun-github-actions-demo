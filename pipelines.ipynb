{
 "cells": [
  {
   "cell_type": "markdown",
   "metadata": {},
   "source": [
    "### Setup MLRun Project"
   ]
  },
  {
   "cell_type": "code",
   "execution_count": 1,
   "metadata": {},
   "outputs": [],
   "source": [
    "import os\n",
    "from os import path\n",
    "from mlrun import set_environment, new_project, mlconf\n",
    "\n",
    "# Set the default environment configuration\n",
    "project_name, artifact_path = set_environment(project=\"gitops-project\", artifact_path='v3io:///users/{{run.user}}/pipe/{{workflow.uid}}')\n",
    "\n",
    "# Create project\n",
    "project_path = path.abspath(\"project\")\n",
    "project = new_project(name=project_name, context=project_path)"
   ]
  },
  {
   "cell_type": "markdown",
   "metadata": {},
   "source": [
    "### Build Docker Image"
   ]
  },
  {
   "cell_type": "code",
   "execution_count": 2,
   "metadata": {},
   "outputs": [
    {
     "data": {
      "text/plain": [
       "'docker-registry.default-tenant.app.us-sales-eks.iguazio-cd0.com:80/gitops-image'"
      ]
     },
     "execution_count": 2,
     "metadata": {},
     "output_type": "execute_result"
    }
   ],
   "source": [
    "image = f\"docker-registry.{os.getenv('IGZ_NAMESPACE_DOMAIN')}:80/gitops-image\"\n",
    "image"
   ]
  },
  {
   "cell_type": "code",
   "execution_count": 3,
   "metadata": {},
   "outputs": [],
   "source": [
    "# # Build Docker Image (only needs to be run once)\n",
    "# from mlrun import new_function\n",
    "\n",
    "# build_image = new_function(name=\"build-image\", kind=\"job\")\n",
    "# build_image.build_config(\n",
    "#     image=image,\n",
    "#     base_image=\"mlrun/mlrun\",\n",
    "#     commands=[\"pip install PyGithub\"]\n",
    "# )\n",
    "# build_image.deploy(with_mlrun=False)"
   ]
  },
  {
   "cell_type": "code",
   "execution_count": 4,
   "metadata": {},
   "outputs": [
    {
     "data": {
      "text/plain": [
       "'docker-registry.default-tenant.app.us-sales-eks.iguazio-cd0.com:80/gitops-image'"
      ]
     },
     "execution_count": 4,
     "metadata": {},
     "output_type": "execute_result"
    }
   ],
   "source": [
    "image"
   ]
  },
  {
   "cell_type": "markdown",
   "metadata": {},
   "source": [
    "### Import Functions"
   ]
  },
  {
   "cell_type": "code",
   "execution_count": 5,
   "metadata": {},
   "outputs": [
    {
     "data": {
      "text/plain": [
       "<mlrun.runtimes.function.RemoteRuntime at 0x7faab78f2090>"
      ]
     },
     "execution_count": 5,
     "metadata": {},
     "output_type": "execute_result"
    }
   ],
   "source": [
    "project.set_function(name=\"gen-iris\",\n",
    "                    func=\"components/gen_iris.py\",\n",
    "                    kind=\"job\",\n",
    "                    image=image)\n",
    "project.set_function(name=\"describe\",\n",
    "                    func=\"hub://describe\",\n",
    "                    kind=\"job\",\n",
    "                    image=image)\n",
    "project.set_function(name=\"train\",\n",
    "                    func=\"components/sklearn_classifier.py\",\n",
    "                    kind=\"job\",\n",
    "                    image=image)\n",
    "project.set_function(name=\"test\",\n",
    "                    func=\"components/test_classifier.py\",\n",
    "                    kind=\"job\",\n",
    "                    image=image)\n",
    "project.set_function(name=\"serving\",\n",
    "                    func=\"hub://v2_model_server\",\n",
    "                    kind=\"serving\",\n",
    "                    image=image)\n",
    "project.set_function(name=\"live-tester\",\n",
    "                    func=\"components/model_server_tester.py\",\n",
    "                    kind=\"nuclio\",\n",
    "                    image=image)\n",
    "project.set_function(name=\"drift-watcher\",\n",
    "                    func=\"components/drift_watcher.py\",\n",
    "                    kind=\"nuclio\",\n",
    "                    image=image)"
   ]
  },
  {
   "cell_type": "markdown",
   "metadata": {},
   "source": [
    "### Training Pipeline"
   ]
  },
  {
   "cell_type": "code",
   "execution_count": 6,
   "metadata": {},
   "outputs": [
    {
     "name": "stdout",
     "output_type": "stream",
     "text": [
      "Overwriting /User/mlrun-github-actions-demo/project/pipelines/train.py\n"
     ]
    }
   ],
   "source": [
    "%%writefile {path.join(project_path, 'pipelines/train.py')}\n",
    "from kfp import dsl\n",
    "from mlrun import mount_v3io, NewTask\n",
    "\n",
    "funcs = {}\n",
    "this_project = None\n",
    "DATASET = 'iris_dataset'\n",
    "LABELS  = \"label\"\n",
    "\n",
    "# init functions is used to configure function resources and local settings\n",
    "def init_functions(functions: dict, project=None, secrets=None):\n",
    "    for f in functions.values():\n",
    "        f.apply(mount_v3io())\n",
    "        f.set_env(\"GITHUB_TOKEN\", secrets.get(\"GITHUB_TOKEN\"))\n",
    "\n",
    "@dsl.pipeline(\n",
    "    name=\"Demo training pipeline\",\n",
    "    description=\"Shows how to use mlrun.\"\n",
    ")\n",
    "def kfpipeline(\n",
    "    existing_model_path:str=\"None\"\n",
    "):\n",
    "    \n",
    "    # run the ingestion function with the new image and params\n",
    "    ingest = funcs['gen-iris'].as_step(\n",
    "        name=\"get-data\",\n",
    "        handler='iris_generator',\n",
    "        params={'format': 'pq'},\n",
    "        outputs=[DATASET])\n",
    "\n",
    "    # analyze our dataset\n",
    "    describe = funcs[\"describe\"].as_step(\n",
    "        name=\"summary\",\n",
    "        params={\"label_column\": LABELS},\n",
    "        inputs={\"table\": ingest.outputs[DATASET]})\n",
    "    \n",
    "    # train with hyper-paremeters\n",
    "    train = funcs[\"train\"].as_step(\n",
    "        name=\"train\",\n",
    "        handler=\"train_model\",\n",
    "        params={\"sample\"          : -1,\n",
    "                \"label_column\"    : LABELS,\n",
    "                \"test_size\"       : 0.10},\n",
    "        hyperparams={'model_pkg_class': [\"sklearn.ensemble.RandomForestClassifier\",\n",
    "                                         \"sklearn.linear_model.LogisticRegression\",\n",
    "                                         \"sklearn.ensemble.AdaBoostClassifier\"]},\n",
    "        selector='max.accuracy',\n",
    "        inputs={\"dataset\"         : ingest.outputs[DATASET]},\n",
    "        labels={\"commit\": this_project.params.get('commit', '')},\n",
    "        outputs=['model', 'test_set'])\n",
    "\n",
    "    # test and visualize our model\n",
    "    test = funcs[\"test\"].as_step(\n",
    "        name=\"test\",\n",
    "        handler=\"test_classifier\",\n",
    "        params={\"label_column\": LABELS,\n",
    "                \"new_model_path\" : train.outputs['model'],\n",
    "                \"existing_model_path\" : existing_model_path,\n",
    "                \"comparison_metric\": \"accuracy\",\n",
    "                \"post_github\" : True},\n",
    "        inputs={\"test_set\"    : train.outputs['test_set']})"
   ]
  },
  {
   "cell_type": "markdown",
   "metadata": {},
   "source": [
    "### Deployment Pipeline"
   ]
  },
  {
   "cell_type": "code",
   "execution_count": 7,
   "metadata": {},
   "outputs": [
    {
     "name": "stdout",
     "output_type": "stream",
     "text": [
      "Overwriting /User/mlrun-github-actions-demo/project/pipelines/deploy.py\n"
     ]
    }
   ],
   "source": [
    "%%writefile {path.join(project_path, 'pipelines/deploy.py')}\n",
    "from kfp import dsl\n",
    "from mlrun import mount_v3io, NewTask\n",
    "import nuclio\n",
    "\n",
    "funcs = {}\n",
    "this_project = None\n",
    "DATASET = 'iris_dataset'\n",
    "LABELS  = \"label\"\n",
    "\n",
    "# init functions is used to configure function resources and local settings\n",
    "def init_functions(functions: dict, project=None, secrets=None):\n",
    "    for f in functions.values():\n",
    "        f.apply(mount_v3io())\n",
    "        f.set_env(\"GITHUB_TOKEN\", secrets.get(\"GITHUB_TOKEN\"))\n",
    "        \n",
    "    # Enable model monitoring\n",
    "    functions[\"serving\"].set_tracking()\n",
    "    functions[\"live-tester\"].add_trigger('cron', nuclio.triggers.CronTrigger(interval=\"1s\"))\n",
    "    functions[\"drift-watcher\"].add_v3io_stream_trigger(name=\"stream\",\n",
    "                                                       stream_path=f\"projects/{project.metadata.name}/model-endpoints/log_stream\",\n",
    "                                                       seek_to=\"latest\")\n",
    "    \n",
    "@dsl.pipeline(\n",
    "    name=\"Demo training pipeline\",\n",
    "    description=\"Shows how to use mlrun.\"\n",
    ")\n",
    "def kfpipeline(\n",
    "    model_path:str\n",
    "):\n",
    "\n",
    "    # deploy our model as a serverless function\n",
    "    deploy = funcs[\"serving\"].deploy_step(models={f\"model\": model_path},\n",
    "                                          tag=this_project.params.get('commit', 'v1'))\n",
    "\n",
    "    # test out new model server (via REST API calls)\n",
    "    tester = funcs[\"live-tester\"].deploy_step(env={\"addr\" : deploy.outputs[\"endpoint\"],\"model_path\" : model_path})\n",
    "    \n",
    "    # drift watcher to post on github\n",
    "    watcher = funcs[\"drift-watcher\"].deploy_step().after(deploy)"
   ]
  },
  {
   "cell_type": "markdown",
   "metadata": {},
   "source": [
    "### Add GitHub secret"
   ]
  },
  {
   "cell_type": "code",
   "execution_count": 8,
   "metadata": {},
   "outputs": [
    {
     "data": {
      "text/plain": [
       "<mlrun.projects.project.MlrunProject at 0x7faac1499510>"
      ]
     },
     "execution_count": 8,
     "metadata": {},
     "output_type": "execute_result"
    }
   ],
   "source": [
    "project.with_secrets(\"file\", \"ghtoken.txt\")"
   ]
  },
  {
   "cell_type": "markdown",
   "metadata": {},
   "source": [
    "### Save Pipeline"
   ]
  },
  {
   "cell_type": "code",
   "execution_count": 9,
   "metadata": {},
   "outputs": [],
   "source": [
    "project.set_workflow(\"train\", \"pipelines/train.py\")\n",
    "project.set_workflow(\"deploy\", \"pipelines/deploy.py\")\n",
    "project.save()"
   ]
  },
  {
   "cell_type": "markdown",
   "metadata": {},
   "source": [
    "### Run Train Pipeline"
   ]
  },
  {
   "cell_type": "code",
   "execution_count": 10,
   "metadata": {},
   "outputs": [
    {
     "name": "stdout",
     "output_type": "stream",
     "text": [
      "> 2021-07-31 21:09:44,181 [info] using in-cluster config.\n"
     ]
    },
    {
     "data": {
      "text/html": [
       "Experiment link <a href=\"https://dashboard.default-tenant.app.us-sales-eks.iguazio-cd0.com/pipelines/#/experiments/details/fa13e317-6601-4a2d-8f0c-f17b8b3fa94f\" target=\"_blank\" >here</a>"
      ],
      "text/plain": [
       "<IPython.core.display.HTML object>"
      ]
     },
     "metadata": {},
     "output_type": "display_data"
    },
    {
     "data": {
      "text/html": [
       "Run link <a href=\"https://dashboard.default-tenant.app.us-sales-eks.iguazio-cd0.com/pipelines/#/runs/details/8c199527-740f-47ce-a2c2-91aedff255ba\" target=\"_blank\" >here</a>"
      ],
      "text/plain": [
       "<IPython.core.display.HTML object>"
      ]
     },
     "metadata": {},
     "output_type": "display_data"
    },
    {
     "name": "stdout",
     "output_type": "stream",
     "text": [
      "> 2021-07-31 21:09:44,647 [info] Pipeline run id=8c199527-740f-47ce-a2c2-91aedff255ba, check UI or DB for progress\n",
      "> 2021-07-31 21:09:44,647 [info] waiting for pipeline run completion\n"
     ]
    },
    {
     "data": {
      "text/html": [
       "<h2>Run Results</h2>Workflow 8c199527-740f-47ce-a2c2-91aedff255ba finished, status=Succeeded<br>click the hyper links below to see detailed results<br><table border=\"1\" class=\"dataframe\">\n",
       "  <thead>\n",
       "    <tr style=\"text-align: right;\">\n",
       "      <th>uid</th>\n",
       "      <th>start</th>\n",
       "      <th>state</th>\n",
       "      <th>name</th>\n",
       "      <th>results</th>\n",
       "      <th>artifacts</th>\n",
       "    </tr>\n",
       "  </thead>\n",
       "  <tbody>\n",
       "    <tr>\n",
       "      <td><div title=\"0693abc9555d43c1b0bd885087776986\"><a href=\"https://dashboard.default-tenant.app.us-sales-eks.iguazio-cd0.com/mlprojects/gitops-project/jobs/monitor/0693abc9555d43c1b0bd885087776986/overview\" target=\"_blank\" >...87776986</a></div></td>\n",
       "      <td>Jul 31 21:10:34</td>\n",
       "      <td>completed</td>\n",
       "      <td>test</td>\n",
       "      <td><div class=\"dictlist\">accuracy-new_model=0.9333333333333333</div><div class=\"dictlist\">test-error-new_model=0.06666666666666667</div><div class=\"dictlist\">f1-new_model=0.9137254901960784</div><div class=\"dictlist\">precision-new_model=0.8888888888888888</div><div class=\"dictlist\">recall-new_model=0.9629629629629629</div><div class=\"dictlist\">accuracy-existing_model=0.9333333333333333</div><div class=\"dictlist\">test-error-existing_model=0.06666666666666667</div><div class=\"dictlist\">f1-existing_model=0.9137254901960784</div><div class=\"dictlist\">precision-existing_model=0.8888888888888888</div><div class=\"dictlist\">recall-existing_model=0.9629629629629629</div></td>\n",
       "      <td><div title=\"v3io:///users/nick/pipe/8c199527-740f-47ce-a2c2-91aedff255ba/test_set_preds-new_model.parquet\">test_set_preds-new_model</div><div title=\"v3io:///users/nick/pipe/8c199527-740f-47ce-a2c2-91aedff255ba/test_set_preds-existing_model.parquet\">test_set_preds-existing_model</div></td>\n",
       "    </tr>\n",
       "    <tr>\n",
       "      <td><div title=\"841b82ba46f443468abfbffb815c4546\"><a href=\"https://dashboard.default-tenant.app.us-sales-eks.iguazio-cd0.com/mlprojects/gitops-project/jobs/monitor/841b82ba46f443468abfbffb815c4546/overview\" target=\"_blank\" >...815c4546</a></div></td>\n",
       "      <td>Jul 31 21:10:08</td>\n",
       "      <td>completed</td>\n",
       "      <td>summary</td>\n",
       "      <td></td>\n",
       "      <td><div class=\"artifact\" onclick=\"expandPanel(this)\" paneName=\"result\" title=\"files/v3io/users/nick/pipe/8c199527-740f-47ce-a2c2-91aedff255ba/plots/hist.html\">histograms</div><div class=\"artifact\" onclick=\"expandPanel(this)\" paneName=\"result\" title=\"files/v3io/users/nick/pipe/8c199527-740f-47ce-a2c2-91aedff255ba/plots/violin.html\">violin</div><div class=\"artifact\" onclick=\"expandPanel(this)\" paneName=\"result\" title=\"files/v3io/users/nick/pipe/8c199527-740f-47ce-a2c2-91aedff255ba/plots/imbalance.html\">imbalance</div><div class=\"artifact\" onclick=\"expandPanel(this)\" paneName=\"result\" title=\"files/v3io/users/nick/pipe/8c199527-740f-47ce-a2c2-91aedff255ba/plots/imbalance-weights-vec.csv\">imbalance-weights-vec</div><div class=\"artifact\" onclick=\"expandPanel(this)\" paneName=\"result\" title=\"files/v3io/users/nick/pipe/8c199527-740f-47ce-a2c2-91aedff255ba/plots/correlation-matrix.csv\">correlation-matrix</div><div class=\"artifact\" onclick=\"expandPanel(this)\" paneName=\"result\" title=\"files/v3io/users/nick/pipe/8c199527-740f-47ce-a2c2-91aedff255ba/plots/corr.html\">correlation</div></td>\n",
       "    </tr>\n",
       "    <tr>\n",
       "      <td><div title=\"1fc6e469667b4c71bff2816e50800280\"><a href=\"https://dashboard.default-tenant.app.us-sales-eks.iguazio-cd0.com/mlprojects/gitops-project/jobs/monitor/1fc6e469667b4c71bff2816e50800280/overview\" target=\"_blank\" >...50800280</a></div></td>\n",
       "      <td>Jul 31 21:10:06</td>\n",
       "      <td>completed</td>\n",
       "      <td>train</td>\n",
       "      <td><div class=\"dictlist\">best_iteration=2</div><div class=\"dictlist\">accuracy=0.975609756097561</div><div class=\"dictlist\">test-error=0.024390243902439025</div><div class=\"dictlist\">auc-micro=0.9973230220107079</div><div class=\"dictlist\">auc-weighted=0.9966358284272497</div><div class=\"dictlist\">f1-score=0.9721739130434783</div><div class=\"dictlist\">precision_score=0.9743589743589745</div><div class=\"dictlist\">recall_score=0.9722222222222222</div></td>\n",
       "      <td><div title=\"v3io:///users/nick/pipe/8c199527-740f-47ce-a2c2-91aedff255ba/data/2/test_set.parquet\">test_set</div><div class=\"artifact\" onclick=\"expandPanel(this)\" paneName=\"result\" title=\"files/v3io/users/nick/pipe/8c199527-740f-47ce-a2c2-91aedff255ba/model/plots/2/confusion-matrix.html\">confusion-matrix</div><div class=\"artifact\" onclick=\"expandPanel(this)\" paneName=\"result\" title=\"files/v3io/users/nick/pipe/8c199527-740f-47ce-a2c2-91aedff255ba/model/plots/2/precision-recall-multiclass.html\">precision-recall-multiclass</div><div class=\"artifact\" onclick=\"expandPanel(this)\" paneName=\"result\" title=\"files/v3io/users/nick/pipe/8c199527-740f-47ce-a2c2-91aedff255ba/model/plots/2/roc-multiclass.html\">roc-multiclass</div><div title=\"v3io:///users/nick/pipe/8c199527-740f-47ce-a2c2-91aedff255ba/model/2/\">model</div><div class=\"artifact\" onclick=\"expandPanel(this)\" paneName=\"result\" title=\"files/v3io/users/nick/pipe/8c199527-740f-47ce-a2c2-91aedff255ba/iteration_results.csv\">iteration_results</div></td>\n",
       "    </tr>\n",
       "    <tr>\n",
       "      <td><div title=\"760628979df646d585179c3de48c0212\"><a href=\"https://dashboard.default-tenant.app.us-sales-eks.iguazio-cd0.com/mlprojects/gitops-project/jobs/monitor/760628979df646d585179c3de48c0212/overview\" target=\"_blank\" >...e48c0212</a></div></td>\n",
       "      <td>Jul 31 21:09:53</td>\n",
       "      <td>completed</td>\n",
       "      <td>get-data</td>\n",
       "      <td></td>\n",
       "      <td><div title=\"v3io:///users/nick/pipe/8c199527-740f-47ce-a2c2-91aedff255ba/iris_dataset.parquet\">iris_dataset</div></td>\n",
       "    </tr>\n",
       "  </tbody>\n",
       "</table>"
      ],
      "text/plain": [
       "<IPython.core.display.HTML object>"
      ]
     },
     "metadata": {},
     "output_type": "display_data"
    }
   ],
   "source": [
    "run_id = project.run(\"train\", arguments={\"existing_model_path\":\"store://models/gitops-project/train_model#2@3f49ccb6-895c-4e0d-848a-79a81108e248\"}, artifact_path=artifact_path, dirty=True, watch=True)"
   ]
  },
  {
   "cell_type": "markdown",
   "metadata": {},
   "source": [
    "### Run Deploy Pipeline"
   ]
  },
  {
   "cell_type": "code",
   "execution_count": 11,
   "metadata": {},
   "outputs": [
    {
     "data": {
      "text/html": [
       "Experiment link <a href=\"https://dashboard.default-tenant.app.us-sales-eks.iguazio-cd0.com/pipelines/#/experiments/details/3740b8ea-d34f-4bf4-98c2-68f2ce5a84a7\" target=\"_blank\" >here</a>"
      ],
      "text/plain": [
       "<IPython.core.display.HTML object>"
      ]
     },
     "metadata": {},
     "output_type": "display_data"
    },
    {
     "data": {
      "text/html": [
       "Run link <a href=\"https://dashboard.default-tenant.app.us-sales-eks.iguazio-cd0.com/pipelines/#/runs/details/bda850fd-790e-4fe5-81d8-fea16a34ea45\" target=\"_blank\" >here</a>"
      ],
      "text/plain": [
       "<IPython.core.display.HTML object>"
      ]
     },
     "metadata": {},
     "output_type": "display_data"
    },
    {
     "name": "stdout",
     "output_type": "stream",
     "text": [
      "> 2021-07-31 21:12:38,816 [info] Pipeline run id=bda850fd-790e-4fe5-81d8-fea16a34ea45, check UI or DB for progress\n",
      "> 2021-07-31 21:12:38,816 [info] waiting for pipeline run completion\n"
     ]
    },
    {
     "data": {
      "text/html": [
       "Workflow bda850fd-790e-4fe5-81d8-fea16a34ea45 finished, status=Succeeded"
      ],
      "text/plain": [
       "<IPython.core.display.HTML object>"
      ]
     },
     "metadata": {},
     "output_type": "display_data"
    }
   ],
   "source": [
    "run_id = project.run(\"deploy\", arguments={\"model_path\":\"store://models/gitops-project/train_model#2@8c199527-740f-47ce-a2c2-91aedff255ba\"}, artifact_path=artifact_path, dirty=True, watch=True)"
   ]
  },
  {
   "cell_type": "code",
   "execution_count": 427,
   "metadata": {},
   "outputs": [],
   "source": [
    "!curl http://default-tenant.app.us-sales-eks.iguazio-cd0.com:32344/"
   ]
  },
  {
   "cell_type": "code",
   "execution_count": null,
   "metadata": {},
   "outputs": [],
   "source": []
  }
 ],
 "metadata": {
  "kernelspec": {
   "display_name": "Python [conda env:root] *",
   "language": "python",
   "name": "conda-root-py"
  },
  "language_info": {
   "codemirror_mode": {
    "name": "ipython",
    "version": 3
   },
   "file_extension": ".py",
   "mimetype": "text/x-python",
   "name": "python",
   "nbconvert_exporter": "python",
   "pygments_lexer": "ipython3",
   "version": "3.7.6"
  }
 },
 "nbformat": 4,
 "nbformat_minor": 4
}
