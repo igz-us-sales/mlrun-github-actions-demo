{
 "cells": [
  {
   "cell_type": "markdown",
   "metadata": {},
   "source": [
    "### Setup MLRun Project"
   ]
  },
  {
   "cell_type": "code",
   "execution_count": 1,
   "metadata": {},
   "outputs": [
    {
     "name": "stdout",
     "output_type": "stream",
     "text": [
      "> 2023-06-29 05:31:54,476 [info] loaded project gitops-project from MLRun DB\n",
      "> 2023-06-29 05:31:54,504 [info] loaded project gitops-project from MLRun DB\n"
     ]
    },
    {
     "name": "stderr",
     "output_type": "stream",
     "text": [
      "'user_project' and 'project' are deprecated in 1.3.0, and will be removed in 1.5.0, use project APIs such as 'get_or_create_project', 'load_project' to configure the active project.\n"
     ]
    }
   ],
   "source": [
    "import os\n",
    "from os import path\n",
    "from mlrun import set_environment, get_or_create_project, mlconf\n",
    "\n",
    "# Set the default environment configuration\n",
    "project_name, artifact_path = set_environment(project=\"gitops-project\", artifact_path='v3io:///users/{{run.user}}/pipe/{{workflow.uid}}')\n",
    "\n",
    "# # Create project\n",
    "project_path = path.abspath(\"project\")\n",
    "project = get_or_create_project(name=project_name, context=project_path)"
   ]
  },
  {
   "cell_type": "code",
   "execution_count": 2,
   "metadata": {},
   "outputs": [],
   "source": [
    "project.set_model_monitoring_credentials(os.environ.get(\"V3IO_ACCESS_KEY\"))"
   ]
  },
  {
   "cell_type": "markdown",
   "metadata": {},
   "source": [
    "### Build Docker Image"
   ]
  },
  {
   "cell_type": "code",
   "execution_count": 3,
   "metadata": {},
   "outputs": [
    {
     "data": {
      "text/plain": [
       "'docker-registry.default-tenant.app.cst-353.iguazio-cd1.com/gitops-image:latest'"
      ]
     },
     "execution_count": 3,
     "metadata": {},
     "output_type": "execute_result"
    }
   ],
   "source": [
    "image = f\"docker-registry.{os.getenv('IGZ_NAMESPACE_DOMAIN')}/gitops-image:latest\"\n",
    "# image = \".xingsheng/gitops-image\"\n",
    "image"
   ]
  },
  {
   "cell_type": "code",
   "execution_count": 4,
   "metadata": {},
   "outputs": [],
   "source": [
    "# Build Docker Image (only needs to be run once)\n",
    "# from mlrun import new_function\n",
    "\n",
    "# build_image = new_function(name=\"build-image\", kind=\"job\")\n",
    "# build_image.build_config(\n",
    "#     image=image,\n",
    "#     base_image=\"mlrun/mlrun\",\n",
    "#     commands=[\"pip install PyGithub\"]\n",
    "# )\n",
    "# build_image.deploy(with_mlrun=False)"
   ]
  },
  {
   "cell_type": "code",
   "execution_count": 5,
   "metadata": {},
   "outputs": [
    {
     "data": {
      "text/plain": [
       "'docker-registry.default-tenant.app.cst-353.iguazio-cd1.com/gitops-image:latest'"
      ]
     },
     "execution_count": 5,
     "metadata": {},
     "output_type": "execute_result"
    }
   ],
   "source": [
    "image"
   ]
  },
  {
   "cell_type": "markdown",
   "metadata": {},
   "source": [
    "### Import Functions"
   ]
  },
  {
   "cell_type": "code",
   "execution_count": 6,
   "metadata": {},
   "outputs": [
    {
     "data": {
      "text/plain": [
       "<mlrun.runtimes.function.RemoteRuntime at 0x7f3e84243460>"
      ]
     },
     "execution_count": 6,
     "metadata": {},
     "output_type": "execute_result"
    }
   ],
   "source": [
    "project.set_function(name=\"gen-iris\",\n",
    "                    func=\"components/gen_iris.py\",\n",
    "                    kind=\"job\",\n",
    "                    image=image)\n",
    "project.set_function(name=\"describe\",\n",
    "                    func=\"hub://describe\",\n",
    "                    kind=\"job\",\n",
    "                    image=image)\n",
    "project.set_function(name=\"train\",\n",
    "                    func=\"components/sklearn_classifier.py\",\n",
    "                    kind=\"job\",\n",
    "                    image=image)\n",
    "project.set_function(name=\"test\",\n",
    "                    func=\"components/test_classifier.py\",\n",
    "                    kind=\"job\",\n",
    "                    image=image)\n",
    "project.set_function(name=\"serving\",\n",
    "                    func=\"hub://v2_model_server\",\n",
    "                    kind=\"serving\",\n",
    "                    image=image)\n",
    "project.set_function(name=\"live-tester\",\n",
    "                    func=\"components/model_server_tester.py\",\n",
    "                    kind=\"nuclio\",\n",
    "                    image=image)\n",
    "project.set_function(name=\"drift-watcher\",\n",
    "                    func=\"components/drift_watcher.py\",\n",
    "                    kind=\"nuclio\",\n",
    "                    image=image)"
   ]
  },
  {
   "cell_type": "markdown",
   "metadata": {},
   "source": [
    "### Training Pipeline"
   ]
  },
  {
   "cell_type": "code",
   "execution_count": 7,
   "metadata": {},
   "outputs": [
    {
     "name": "stdout",
     "output_type": "stream",
     "text": [
      "Overwriting /User/github-actions-demo/project/pipelines/train.py\n"
     ]
    }
   ],
   "source": [
    "%%writefile {path.join(project_path, 'pipelines/train.py')}\n",
    "from kfp import dsl\n",
    "from mlrun import mount_v3io\n",
    "\n",
    "funcs = {}\n",
    "this_project = None\n",
    "DATASET = 'iris_dataset'\n",
    "LABELS  = \"label\"\n",
    "\n",
    "# init functions is used to configure function resources and local settings\n",
    "def init_functions(functions: dict, project=None, secrets=None):\n",
    "    for f in functions.values():\n",
    "        f.apply(mount_v3io())\n",
    "        f.set_env(\"GITHUB_TOKEN\", secrets.get(\"MY_GITHUB_TOKEN\"))\n",
    "\n",
    "@dsl.pipeline(\n",
    "    name=\"GitOps Training Pipeline\",\n",
    "    description=\"Train a model\"\n",
    ")\n",
    "def kfpipeline(\n",
    "    existing_model_path:str=\"None\",\n",
    "    force_deploy:bool=False,\n",
    "):\n",
    "    \n",
    "    # run the ingestion function with the new image and params\n",
    "    ingest = funcs['gen-iris'].as_step(\n",
    "        name=\"get-data\",\n",
    "        handler='iris_generator',\n",
    "        params={'format': 'pq'},\n",
    "        outputs=[DATASET])\n",
    "\n",
    "    # analyze our dataset\n",
    "    describe = funcs[\"describe\"].as_step(\n",
    "        name=\"summary\",\n",
    "        params={\"label_column\": LABELS},\n",
    "        inputs={\"table\": ingest.outputs[DATASET]})\n",
    "    \n",
    "    # train with hyper-paremeters\n",
    "    train = funcs[\"train\"].as_step(\n",
    "        name=\"train\",\n",
    "        handler=\"train_model\",\n",
    "        params={\"sample\"          : -1,\n",
    "                \"label_column\"    : LABELS,\n",
    "                \"test_size\"       : 0.10},\n",
    "        hyperparams={'model_pkg_class': [\"sklearn.ensemble.RandomForestClassifier\",\n",
    "                                         \"sklearn.linear_model.LogisticRegression\",\n",
    "                                         \"sklearn.ensemble.AdaBoostClassifier\"]},\n",
    "        selector='max.accuracy',\n",
    "        inputs={\"dataset\"         : ingest.outputs[DATASET]},\n",
    "        labels={\"commit\": this_project.params.get('commit', '')},\n",
    "        outputs=['model', 'test_set'])\n",
    "\n",
    "    # test and visualize our model\n",
    "    test = funcs[\"test\"].as_step(\n",
    "        name=\"test\",\n",
    "        handler=\"test_classifier\",\n",
    "        params={\"label_column\": LABELS,\n",
    "                \"new_model_path\" : train.outputs['model'],\n",
    "                \"existing_model_path\" : existing_model_path,\n",
    "                \"comparison_metric\": \"accuracy\",\n",
    "                \"post_github\" : False,\n",
    "                \"force_deploy\" : force_deploy},\n",
    "        inputs={\"test_set\"    : train.outputs['test_set']})"
   ]
  },
  {
   "cell_type": "markdown",
   "metadata": {},
   "source": [
    "### Deployment Pipeline"
   ]
  },
  {
   "cell_type": "code",
   "execution_count": 8,
   "metadata": {},
   "outputs": [
    {
     "name": "stdout",
     "output_type": "stream",
     "text": [
      "Overwriting /User/github-actions-demo/project/pipelines/deploy.py\n"
     ]
    }
   ],
   "source": [
    "%%writefile {path.join(project_path, 'pipelines/deploy.py')}\n",
    "from kfp import dsl\n",
    "from mlrun import mount_v3io\n",
    "import nuclio\n",
    "\n",
    "funcs = {}\n",
    "this_project = None\n",
    "DATASET = 'iris_dataset'\n",
    "LABELS  = \"label\"\n",
    "\n",
    "# init functions is used to configure function resources and local settings\n",
    "def init_functions(functions: dict, project=None, secrets=None):\n",
    "    for f in functions.values():\n",
    "        f.apply(mount_v3io())\n",
    "        f.set_env(\"GITHUB_TOKEN\", secrets.get(\"MY_GITHUB_TOKEN\"))\n",
    "        \n",
    "    # Enable model monitoring\n",
    "    functions[\"serving\"].set_tracking()\n",
    "    functions[\"live-tester\"].add_trigger('cron', nuclio.triggers.CronTrigger(interval=\"1s\"))\n",
    "    functions[\"drift-watcher\"].add_v3io_stream_trigger(name=\"stream\",\n",
    "                                                       stream_path=f\"projects/{project.metadata.name}/model-endpoints/log_stream\",\n",
    "                                                       seek_to=\"latest\")\n",
    "    \n",
    "@dsl.pipeline(\n",
    "    name=\"GitOps Deployment Pipeline\",\n",
    "    description=\"Deploy a model.\"\n",
    ")\n",
    "def kfpipeline(\n",
    "    model_path:str=\"None\"\n",
    "):\n",
    "\n",
    "    # deploy our model as a serverless function\n",
    "    deploy = funcs[\"serving\"].deploy_step(models={f\"model\": model_path})\n",
    "\n",
    "    # test out new model server (via REST API calls)\n",
    "    tester = funcs[\"live-tester\"].deploy_step(env={\"addr\" : deploy.outputs[\"endpoint\"],\"model_path\" : model_path})\n",
    "    \n",
    "    # drift watcher to post on github\n",
    "    watcher = funcs[\"drift-watcher\"].deploy_step().after(deploy)"
   ]
  },
  {
   "cell_type": "markdown",
   "metadata": {},
   "source": [
    "### Add GitHub secret"
   ]
  },
  {
   "cell_type": "code",
   "execution_count": 9,
   "metadata": {},
   "outputs": [],
   "source": [
    "# project.with_secrets(\"file\", \"ghtoken.txt\")"
   ]
  },
  {
   "cell_type": "markdown",
   "metadata": {},
   "source": [
    "### Save Pipeline"
   ]
  },
  {
   "cell_type": "code",
   "execution_count": 11,
   "metadata": {},
   "outputs": [
    {
     "data": {
      "text/plain": [
       "<mlrun.projects.project.MlrunProject at 0x7f3df1bd4730>"
      ]
     },
     "execution_count": 11,
     "metadata": {},
     "output_type": "execute_result"
    }
   ],
   "source": [
    "project.set_workflow(\"train\", \"pipelines/train.py\")\n",
    "project.set_workflow(\"deploy\", \"pipelines/deploy.py\")\n",
    "project.save()"
   ]
  },
  {
   "cell_type": "markdown",
   "metadata": {},
   "source": [
    "### Run Train Pipeline"
   ]
  },
  {
   "cell_type": "code",
   "execution_count": 12,
   "metadata": {},
   "outputs": [],
   "source": [
    "# Before training, let's check the sklearn version\n",
    "# from sklearn import metrics\n",
    "# print(sklearn.__version__)\n",
    "# print(metrics.plot_confusion_matrix)"
   ]
  },
  {
   "cell_type": "code",
   "execution_count": 13,
   "metadata": {},
   "outputs": [
    {
     "data": {
      "text/html": [
       "<div>Pipeline running (id=4f3866c8-f86c-4068-98c5-ee30c9312417), <a href=\"https://dashboard.default-tenant.app.cst-353.iguazio-cd1.com/mlprojects/gitops-project/jobs/monitor-workflows/workflow/4f3866c8-f86c-4068-98c5-ee30c9312417\" target=\"_blank\"><b>click here</b></a> to view the details in MLRun UI</div>"
      ],
      "text/plain": [
       "<IPython.core.display.HTML object>"
      ]
     },
     "metadata": {},
     "output_type": "display_data"
    },
    {
     "data": {
      "image/svg+xml": [
       "<?xml version=\"1.0\" encoding=\"UTF-8\" standalone=\"no\"?>\n",
       "<!DOCTYPE svg PUBLIC \"-//W3C//DTD SVG 1.1//EN\"\n",
       " \"http://www.w3.org/Graphics/SVG/1.1/DTD/svg11.dtd\">\n",
       "<!-- Generated by graphviz version 2.43.0 (0)\n",
       " -->\n",
       "<!-- Title: kfp Pages: 1 -->\n",
       "<svg width=\"200pt\" height=\"188pt\"\n",
       " viewBox=\"0.00 0.00 200.09 188.00\" xmlns=\"http://www.w3.org/2000/svg\" xmlns:xlink=\"http://www.w3.org/1999/xlink\">\n",
       "<g id=\"graph0\" class=\"graph\" transform=\"scale(1 1) rotate(0) translate(4 184)\">\n",
       "<title>kfp</title>\n",
       "<polygon fill=\"white\" stroke=\"transparent\" points=\"-4,4 -4,-184 196.09,-184 196.09,4 -4,4\"/>\n",
       "<!-- gitops&#45;training&#45;pipeline&#45;79b92&#45;1336290248 -->\n",
       "<g id=\"node1\" class=\"node\">\n",
       "<title>gitops&#45;training&#45;pipeline&#45;79b92&#45;1336290248</title>\n",
       "<ellipse fill=\"green\" stroke=\"black\" cx=\"105.95\" cy=\"-162\" rx=\"49.29\" ry=\"18\"/>\n",
       "<text text-anchor=\"middle\" x=\"105.95\" y=\"-158.3\" font-family=\"Times,serif\" font-size=\"14.00\">get&#45;data</text>\n",
       "</g>\n",
       "<!-- gitops&#45;training&#45;pipeline&#45;79b92&#45;2724947645 -->\n",
       "<g id=\"node2\" class=\"node\">\n",
       "<title>gitops&#45;training&#45;pipeline&#45;79b92&#45;2724947645</title>\n",
       "<ellipse fill=\"green\" stroke=\"black\" cx=\"53.95\" cy=\"-90\" rx=\"53.89\" ry=\"18\"/>\n",
       "<text text-anchor=\"middle\" x=\"53.95\" y=\"-86.3\" font-family=\"Times,serif\" font-size=\"14.00\">summary</text>\n",
       "</g>\n",
       "<!-- gitops&#45;training&#45;pipeline&#45;79b92&#45;1336290248&#45;&gt;gitops&#45;training&#45;pipeline&#45;79b92&#45;2724947645 -->\n",
       "<g id=\"edge1\" class=\"edge\">\n",
       "<title>gitops&#45;training&#45;pipeline&#45;79b92&#45;1336290248&#45;&gt;gitops&#45;training&#45;pipeline&#45;79b92&#45;2724947645</title>\n",
       "<path fill=\"none\" stroke=\"black\" d=\"M93.62,-144.41C87.37,-135.99 79.64,-125.58 72.67,-116.2\"/>\n",
       "<polygon fill=\"black\" stroke=\"black\" points=\"75.31,-113.9 66.54,-107.96 69.69,-118.07 75.31,-113.9\"/>\n",
       "</g>\n",
       "<!-- gitops&#45;training&#45;pipeline&#45;79b92&#45;2124430179 -->\n",
       "<g id=\"node3\" class=\"node\">\n",
       "<title>gitops&#45;training&#45;pipeline&#45;79b92&#45;2124430179</title>\n",
       "<ellipse fill=\"green\" stroke=\"black\" cx=\"158.95\" cy=\"-90\" rx=\"33.29\" ry=\"18\"/>\n",
       "<text text-anchor=\"middle\" x=\"158.95\" y=\"-86.3\" font-family=\"Times,serif\" font-size=\"14.00\">train</text>\n",
       "</g>\n",
       "<!-- gitops&#45;training&#45;pipeline&#45;79b92&#45;1336290248&#45;&gt;gitops&#45;training&#45;pipeline&#45;79b92&#45;2124430179 -->\n",
       "<g id=\"edge2\" class=\"edge\">\n",
       "<title>gitops&#45;training&#45;pipeline&#45;79b92&#45;1336290248&#45;&gt;gitops&#45;training&#45;pipeline&#45;79b92&#45;2124430179</title>\n",
       "<path fill=\"none\" stroke=\"black\" d=\"M118.51,-144.41C125.13,-135.66 133.39,-124.75 140.71,-115.08\"/>\n",
       "<polygon fill=\"black\" stroke=\"black\" points=\"143.59,-117.07 146.84,-106.99 138.01,-112.85 143.59,-117.07\"/>\n",
       "</g>\n",
       "<!-- gitops&#45;training&#45;pipeline&#45;79b92&#45;3531484983 -->\n",
       "<g id=\"node4\" class=\"node\">\n",
       "<title>gitops&#45;training&#45;pipeline&#45;79b92&#45;3531484983</title>\n",
       "<ellipse fill=\"green\" stroke=\"black\" cx=\"158.95\" cy=\"-18\" rx=\"28.7\" ry=\"18\"/>\n",
       "<text text-anchor=\"middle\" x=\"158.95\" y=\"-14.3\" font-family=\"Times,serif\" font-size=\"14.00\">test</text>\n",
       "</g>\n",
       "<!-- gitops&#45;training&#45;pipeline&#45;79b92&#45;2124430179&#45;&gt;gitops&#45;training&#45;pipeline&#45;79b92&#45;3531484983 -->\n",
       "<g id=\"edge3\" class=\"edge\">\n",
       "<title>gitops&#45;training&#45;pipeline&#45;79b92&#45;2124430179&#45;&gt;gitops&#45;training&#45;pipeline&#45;79b92&#45;3531484983</title>\n",
       "<path fill=\"none\" stroke=\"black\" d=\"M158.95,-71.7C158.95,-63.98 158.95,-54.71 158.95,-46.11\"/>\n",
       "<polygon fill=\"black\" stroke=\"black\" points=\"162.45,-46.1 158.95,-36.1 155.45,-46.1 162.45,-46.1\"/>\n",
       "</g>\n",
       "</g>\n",
       "</svg>\n"
      ],
      "text/plain": [
       "<graphviz.graphs.Digraph at 0x7f3e24684310>"
      ]
     },
     "metadata": {},
     "output_type": "display_data"
    },
    {
     "data": {
      "text/html": [
       "<h2>Run Results</h2><h3>[info] Workflow 4f3866c8-f86c-4068-98c5-ee30c9312417 finished, state=Succeeded</h3><br>click the hyper links below to see detailed results<br><table border=\"1\" class=\"dataframe\">\n",
       "  <thead>\n",
       "    <tr style=\"text-align: right;\">\n",
       "      <th>uid</th>\n",
       "      <th>start</th>\n",
       "      <th>state</th>\n",
       "      <th>name</th>\n",
       "      <th>parameters</th>\n",
       "      <th>results</th>\n",
       "    </tr>\n",
       "  </thead>\n",
       "  <tbody>\n",
       "    <tr>\n",
       "      <td><div title=\"e6aa5952506c4de4896078bbc58f712e\"><a href=\"https://dashboard.default-tenant.app.cst-353.iguazio-cd1.com/mlprojects/gitops-project/jobs/monitor/e6aa5952506c4de4896078bbc58f712e/overview\" target=\"_blank\" >...c58f712e</a></div></td>\n",
       "      <td>Jun 29 05:33:35</td>\n",
       "      <td>completed</td>\n",
       "      <td>test</td>\n",
       "      <td><div class=\"dictlist\">label_column=label</div><div class=\"dictlist\">new_model_path=None</div><div class=\"dictlist\">existing_model_path=None</div><div class=\"dictlist\">comparison_metric=accuracy</div><div class=\"dictlist\">post_github=False</div><div class=\"dictlist\">force_deploy=False</div></td>\n",
       "      <td></td>\n",
       "    </tr>\n",
       "    <tr>\n",
       "      <td><div title=\"f3c281a7594f419ab68d32390bd05bcb\"><a href=\"https://dashboard.default-tenant.app.cst-353.iguazio-cd1.com/mlprojects/gitops-project/jobs/monitor/f3c281a7594f419ab68d32390bd05bcb/overview\" target=\"_blank\" >...0bd05bcb</a></div></td>\n",
       "      <td>Jun 29 05:32:59</td>\n",
       "      <td>completed</td>\n",
       "      <td>summary</td>\n",
       "      <td><div class=\"dictlist\">label_column=label</div></td>\n",
       "      <td></td>\n",
       "    </tr>\n",
       "    <tr>\n",
       "      <td><div title=\"5c5e407e9a8e48e6877064894dec3fed\"><a href=\"https://dashboard.default-tenant.app.cst-353.iguazio-cd1.com/mlprojects/gitops-project/jobs/monitor/5c5e407e9a8e48e6877064894dec3fed/overview\" target=\"_blank\" >...4dec3fed</a></div></td>\n",
       "      <td>Jun 29 05:32:58</td>\n",
       "      <td>completed</td>\n",
       "      <td>train</td>\n",
       "      <td><div class=\"dictlist\">sample=-1</div><div class=\"dictlist\">label_column=label</div><div class=\"dictlist\">test_size=0.1</div></td>\n",
       "      <td></td>\n",
       "    </tr>\n",
       "    <tr>\n",
       "      <td><div title=\"b2df32fdcbc24cc5b5d55f3b68be47ea\"><a href=\"https://dashboard.default-tenant.app.cst-353.iguazio-cd1.com/mlprojects/gitops-project/jobs/monitor/b2df32fdcbc24cc5b5d55f3b68be47ea/overview\" target=\"_blank\" >...68be47ea</a></div></td>\n",
       "      <td>Jun 29 05:32:18</td>\n",
       "      <td>completed</td>\n",
       "      <td>get-data</td>\n",
       "      <td><div class=\"dictlist\">format=pq</div></td>\n",
       "      <td></td>\n",
       "    </tr>\n",
       "  </tbody>\n",
       "</table>"
      ],
      "text/plain": [
       "<IPython.core.display.HTML object>"
      ]
     },
     "metadata": {},
     "output_type": "display_data"
    }
   ],
   "source": [
    "run_id = project.run(\"train\", arguments={}, artifact_path=artifact_path, dirty=True, watch=True)"
   ]
  },
  {
   "cell_type": "code",
   "execution_count": 14,
   "metadata": {},
   "outputs": [],
   "source": [
    "# run_id = project.run(\"train\", arguments={\"existing_model_path\":\"store://models/gitops-project/train_model#2\"}, artifact_path=artifact_path, dirty=True, watch=True)"
   ]
  },
  {
   "cell_type": "markdown",
   "metadata": {},
   "source": [
    "### Run Deploy Pipeline"
   ]
  },
  {
   "cell_type": "code",
   "execution_count": 15,
   "metadata": {},
   "outputs": [
    {
     "data": {
      "text/html": [
       "<div>Pipeline running (id=ee6b4fc8-feb2-4ab4-9a72-564eb4761ab9), <a href=\"https://dashboard.default-tenant.app.cst-353.iguazio-cd1.com/mlprojects/gitops-project/jobs/monitor-workflows/workflow/ee6b4fc8-feb2-4ab4-9a72-564eb4761ab9\" target=\"_blank\"><b>click here</b></a> to view the details in MLRun UI</div>"
      ],
      "text/plain": [
       "<IPython.core.display.HTML object>"
      ]
     },
     "metadata": {},
     "output_type": "display_data"
    },
    {
     "data": {
      "image/svg+xml": [
       "<?xml version=\"1.0\" encoding=\"UTF-8\" standalone=\"no\"?>\n",
       "<!DOCTYPE svg PUBLIC \"-//W3C//DTD SVG 1.1//EN\"\n",
       " \"http://www.w3.org/Graphics/SVG/1.1/DTD/svg11.dtd\">\n",
       "<!-- Generated by graphviz version 2.43.0 (0)\n",
       " -->\n",
       "<!-- Title: kfp Pages: 1 -->\n",
       "<svg width=\"330pt\" height=\"116pt\"\n",
       " viewBox=\"0.00 0.00 329.50 116.00\" xmlns=\"http://www.w3.org/2000/svg\" xmlns:xlink=\"http://www.w3.org/1999/xlink\">\n",
       "<g id=\"graph0\" class=\"graph\" transform=\"scale(1 1) rotate(0) translate(4 112)\">\n",
       "<title>kfp</title>\n",
       "<polygon fill=\"white\" stroke=\"transparent\" points=\"-4,4 -4,-112 325.5,-112 325.5,4 -4,4\"/>\n",
       "<!-- gitops&#45;deployment&#45;pipeline&#45;zdmpv&#45;2520450942 -->\n",
       "<g id=\"node1\" class=\"node\">\n",
       "<title>gitops&#45;deployment&#45;pipeline&#45;zdmpv&#45;2520450942</title>\n",
       "<polygon fill=\"green\" stroke=\"black\" points=\"227,-108 109,-108 105,-104 105,-72 223,-72 227,-76 227,-108\"/>\n",
       "<polyline fill=\"none\" stroke=\"black\" points=\"223,-104 105,-104 \"/>\n",
       "<polyline fill=\"none\" stroke=\"black\" points=\"223,-104 223,-72 \"/>\n",
       "<polyline fill=\"none\" stroke=\"black\" points=\"223,-104 227,-108 \"/>\n",
       "<text text-anchor=\"middle\" x=\"166\" y=\"-86.3\" font-family=\"Times,serif\" font-size=\"14.00\">deploy&#45;serving</text>\n",
       "</g>\n",
       "<!-- gitops&#45;deployment&#45;pipeline&#45;zdmpv&#45;2742657156 -->\n",
       "<g id=\"node2\" class=\"node\">\n",
       "<title>gitops&#45;deployment&#45;pipeline&#45;zdmpv&#45;2742657156</title>\n",
       "<polygon fill=\"green\" stroke=\"black\" points=\"162,-36 4,-36 0,-32 0,0 158,0 162,-4 162,-36\"/>\n",
       "<polyline fill=\"none\" stroke=\"black\" points=\"158,-32 0,-32 \"/>\n",
       "<polyline fill=\"none\" stroke=\"black\" points=\"158,-32 158,0 \"/>\n",
       "<polyline fill=\"none\" stroke=\"black\" points=\"158,-32 162,-36 \"/>\n",
       "<text text-anchor=\"middle\" x=\"81\" y=\"-14.3\" font-family=\"Times,serif\" font-size=\"14.00\">deploy&#45;drift&#45;watcher</text>\n",
       "</g>\n",
       "<!-- gitops&#45;deployment&#45;pipeline&#45;zdmpv&#45;2520450942&#45;&gt;gitops&#45;deployment&#45;pipeline&#45;zdmpv&#45;2742657156 -->\n",
       "<g id=\"edge1\" class=\"edge\">\n",
       "<title>gitops&#45;deployment&#45;pipeline&#45;zdmpv&#45;2520450942&#45;&gt;gitops&#45;deployment&#45;pipeline&#45;zdmpv&#45;2742657156</title>\n",
       "<path fill=\"none\" stroke=\"black\" d=\"M144.99,-71.7C134.28,-62.88 121.11,-52.03 109.5,-42.47\"/>\n",
       "<polygon fill=\"black\" stroke=\"black\" points=\"111.71,-39.76 101.77,-36.1 107.26,-45.16 111.71,-39.76\"/>\n",
       "</g>\n",
       "<!-- gitops&#45;deployment&#45;pipeline&#45;zdmpv&#45;418305256 -->\n",
       "<g id=\"node3\" class=\"node\">\n",
       "<title>gitops&#45;deployment&#45;pipeline&#45;zdmpv&#45;418305256</title>\n",
       "<polygon fill=\"green\" stroke=\"black\" points=\"321.5,-36 184.5,-36 180.5,-32 180.5,0 317.5,0 321.5,-4 321.5,-36\"/>\n",
       "<polyline fill=\"none\" stroke=\"black\" points=\"317.5,-32 180.5,-32 \"/>\n",
       "<polyline fill=\"none\" stroke=\"black\" points=\"317.5,-32 317.5,0 \"/>\n",
       "<polyline fill=\"none\" stroke=\"black\" points=\"317.5,-32 321.5,-36 \"/>\n",
       "<text text-anchor=\"middle\" x=\"251\" y=\"-14.3\" font-family=\"Times,serif\" font-size=\"14.00\">deploy&#45;live&#45;tester</text>\n",
       "</g>\n",
       "<!-- gitops&#45;deployment&#45;pipeline&#45;zdmpv&#45;2520450942&#45;&gt;gitops&#45;deployment&#45;pipeline&#45;zdmpv&#45;418305256 -->\n",
       "<g id=\"edge2\" class=\"edge\">\n",
       "<title>gitops&#45;deployment&#45;pipeline&#45;zdmpv&#45;2520450942&#45;&gt;gitops&#45;deployment&#45;pipeline&#45;zdmpv&#45;418305256</title>\n",
       "<path fill=\"none\" stroke=\"black\" d=\"M187.01,-71.7C197.72,-62.88 210.89,-52.03 222.5,-42.47\"/>\n",
       "<polygon fill=\"black\" stroke=\"black\" points=\"224.74,-45.16 230.23,-36.1 220.29,-39.76 224.74,-45.16\"/>\n",
       "</g>\n",
       "</g>\n",
       "</svg>\n"
      ],
      "text/plain": [
       "<graphviz.graphs.Digraph at 0x7f3e842065b0>"
      ]
     },
     "metadata": {},
     "output_type": "display_data"
    },
    {
     "data": {
      "text/html": [
       "[info] Workflow ee6b4fc8-feb2-4ab4-9a72-564eb4761ab9 finished, state=Succeeded"
      ],
      "text/plain": [
       "<IPython.core.display.HTML object>"
      ]
     },
     "metadata": {},
     "output_type": "display_data"
    }
   ],
   "source": [
    "run_id = project.run(\"deploy\", arguments={\"model_path\":\"store://models/gitops-project/train_model#2\"}, artifact_path=artifact_path, dirty=True, watch=True)"
   ]
  },
  {
   "cell_type": "code",
   "execution_count": 16,
   "metadata": {},
   "outputs": [
    {
     "name": "stdout",
     "output_type": "stream",
     "text": [
      "{\"name\": \"ModelRouter\", \"version\": \"v2\", \"extensions\": []}"
     ]
    }
   ],
   "source": [
    "!curl https://gitops-project-serving-gitops-project.default-tenant.app.cst-353.iguazio-cd1.com"
   ]
  },
  {
   "cell_type": "code",
   "execution_count": 17,
   "metadata": {},
   "outputs": [],
   "source": [
    "import mlrun\n",
    "training_set_path = mlrun.get_sample_path('data/model-monitoring/iris_dataset.csv')\n",
    "predict_url = \"https://gitops-project-serving-gitops-project.default-tenant.app.cst-353.iguazio-cd1.com\""
   ]
  },
  {
   "cell_type": "code",
   "execution_count": null,
   "metadata": {},
   "outputs": [
    {
     "data": {
      "application/vnd.jupyter.widget-view+json": {
       "model_id": "113ec11eeaca4f20803d80622cf4c443",
       "version_major": 2,
       "version_minor": 0
      },
      "text/plain": [
       "  0%|          | 0/12000 [00:00<?, ?it/s]"
      ]
     },
     "metadata": {},
     "output_type": "display_data"
    }
   ],
   "source": [
    "import json\n",
    "import logging\n",
    "from random import choice, uniform\n",
    "from time import sleep\n",
    "import pandas as pd\n",
    "from tqdm.notebook import tqdm\n",
    "import requests\n",
    "\n",
    "# Suppress print messages\n",
    "logging.getLogger(name=\"mlrun\").setLevel(logging.WARNING)\n",
    "\n",
    "# Get training set as list\n",
    "iris_data = pd.read_csv(training_set_path).drop(\"label\", axis=1).to_dict(orient=\"split\")[\"data\"]\n",
    "\n",
    "# Simulate traffic using random elements from training set\n",
    "\n",
    "for i in tqdm(range(12_000)):\n",
    "    data_point = choice(iris_data)\n",
    "    resp = requests.post(predict_url, json=json.dumps({'inputs': [data_point]}))\n",
    "    resp.json()\n",
    "    sleep(uniform(1, 10))\n",
    "# Resume normal logging\n",
    "logging.getLogger(name=\"mlrun\").setLevel(logging.INFO)"
   ]
  },
  {
   "cell_type": "code",
   "execution_count": null,
   "metadata": {},
   "outputs": [],
   "source": []
  }
 ],
 "metadata": {
  "kernelspec": {
   "display_name": "mlrun-base",
   "language": "python",
   "name": "conda-env-mlrun-base-py"
  },
  "language_info": {
   "codemirror_mode": {
    "name": "ipython",
    "version": 3
   },
   "file_extension": ".py",
   "mimetype": "text/x-python",
   "name": "python",
   "nbconvert_exporter": "python",
   "pygments_lexer": "ipython3",
   "version": "3.9.16"
  }
 },
 "nbformat": 4,
 "nbformat_minor": 4
}
