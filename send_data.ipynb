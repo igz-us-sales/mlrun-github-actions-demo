{
 "cells": [
  {
   "cell_type": "code",
   "execution_count": 1,
   "metadata": {},
   "outputs": [
    {
     "name": "stdout",
     "output_type": "stream",
     "text": [
      "> 2023-06-29 04:23:30,491 [info] loaded project gitops-project from MLRun DB\n"
     ]
    }
   ],
   "source": [
    "from sklearn.datasets import load_iris\n",
    "from mlrun import get_or_create_project\n",
    "\n",
    "project = get_or_create_project(name=\"gitops-project\", context=\"./\")\n",
    "iris=load_iris()"
   ]
  },
  {
   "cell_type": "code",
   "execution_count": null,
   "metadata": {
    "scrolled": true,
    "tags": []
   },
   "outputs": [
    {
     "name": "stdout",
     "output_type": "stream",
     "text": [
      "https://gitops-project-serving-gitops-project.default-tenant.app.cst-353.iguazio-cd1.com\n"
     ]
    }
   ],
   "source": [
    "import json\n",
    "from time import sleep\n",
    "from random import choice, uniform\n",
    "import requests\n",
    "\n",
    "model_name = \"RandomForestClassifier\"\n",
    "iris_data = iris['data'].tolist()\n",
    "\n",
    "predict_url = \"https://gitops-project-serving-gitops-project.default-tenant.app.cst-353.iguazio-cd1.com\"\n",
    "\n",
    "print(predict_url)\n",
    "while True:\n",
    "    data_point = choice(iris_data)\n",
    "    resp = requests.post(predict_url, json=json.dumps({'inputs': [data_point]}))\n",
    "    resp.json()\n",
    "    sleep(uniform(0.1, 1.1))"
   ]
  },
  {
   "cell_type": "code",
   "execution_count": null,
   "metadata": {},
   "outputs": [],
   "source": []
  }
 ],
 "metadata": {
  "kernelspec": {
   "display_name": "mlrun-base",
   "language": "python",
   "name": "conda-env-mlrun-base-py"
  },
  "language_info": {
   "codemirror_mode": {
    "name": "ipython",
    "version": 3
   },
   "file_extension": ".py",
   "mimetype": "text/x-python",
   "name": "python",
   "nbconvert_exporter": "python",
   "pygments_lexer": "ipython3",
   "version": "3.9.16"
  }
 },
 "nbformat": 4,
 "nbformat_minor": 4
}
