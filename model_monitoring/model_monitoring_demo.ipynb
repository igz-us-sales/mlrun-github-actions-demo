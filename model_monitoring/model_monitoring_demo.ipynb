{
 "cells": [
  {
   "cell_type": "code",
   "execution_count": 1,
   "metadata": {},
   "outputs": [],
   "source": [
    "project = \"gitops-project\""
   ]
  },
  {
   "cell_type": "markdown",
   "metadata": {},
   "source": [
    "### Deploy Stream Processing"
   ]
  },
  {
   "cell_type": "code",
   "execution_count": 3,
   "metadata": {},
   "outputs": [],
   "source": [
    "import v3io.dataplane"
   ]
  },
  {
   "cell_type": "code",
   "execution_count": 4,
   "metadata": {},
   "outputs": [],
   "source": [
    "v3io_client = v3io.dataplane.Client()"
   ]
  },
  {
   "cell_type": "code",
   "execution_count": 5,
   "metadata": {},
   "outputs": [
    {
     "data": {
      "text/plain": [
       "<v3io.dataplane.response.Response at 0x7f9f0d35f110>"
      ]
     },
     "execution_count": 5,
     "metadata": {},
     "output_type": "execute_result"
    }
   ],
   "source": [
    "v3io_client.stream.create(container='projects', stream_path=f'{project}/model-endpoints/stream', shard_count=1, raise_for_status=[204, 409])"
   ]
  },
  {
   "cell_type": "code",
   "execution_count": 6,
   "metadata": {},
   "outputs": [
    {
     "name": "stdout",
     "output_type": "stream",
     "text": [
      "> 2021-07-30 23:46:52,157 [info] Starting remote function deploy\n",
      "2021-07-30 23:46:52  (info) Deploying function\n",
      "2021-07-30 23:46:52  (info) Building\n",
      "2021-07-30 23:46:53  (info) Staging files and preparing base images\n",
      "2021-07-30 23:46:53  (info) Building processor image\n",
      "2021-07-30 23:46:55  (info) Build complete\n",
      "2021-07-30 23:47:03  (info) Function deploy complete\n",
      "> 2021-07-30 23:47:04,053 [info] function deployed, address=default-tenant.app.us-sales-eks.iguazio-cd0.com:30886\n"
     ]
    },
    {
     "data": {
      "text/plain": [
       "'http://default-tenant.app.us-sales-eks.iguazio-cd0.com:30886'"
      ]
     },
     "execution_count": 6,
     "metadata": {},
     "output_type": "execute_result"
    }
   ],
   "source": [
    "import os\n",
    "\n",
    "from mlrun import import_function\n",
    "from mlrun.platforms import mount_v3io\n",
    "from mlrun.runtimes import RemoteRuntime\n",
    "import json\n",
    "\n",
    "fn: RemoteRuntime = import_function(\"hub://model_monitoring_stream\")\n",
    "\n",
    "# Configures the nuclio trigger. See nuclio triggers https://nuclio.io/docs/latest/reference/triggers/.\n",
    "fn.add_v3io_stream_trigger(\n",
    "    stream_path=f\"projects/{project}/model-endpoints/stream\",\n",
    "    name=\"monitoring_stream_trigger\",\n",
    ")\n",
    "\n",
    "fn.set_env(\"MODEL_MONITORING_PARAMETERS\", json.dumps(\n",
    "    {\"project\": project, \"v3io_framesd\": os.environ.get(\"V3IO_FRAMESD\")}))\n",
    "\n",
    "fn.metadata.project = project\n",
    "fn.apply(mount_v3io())\n",
    "\n",
    "# Deploy the function\n",
    "fn.deploy()"
   ]
  },
  {
   "cell_type": "markdown",
   "metadata": {},
   "source": [
    "### Deploy Batch Processing"
   ]
  },
  {
   "cell_type": "code",
   "execution_count": 7,
   "metadata": {},
   "outputs": [],
   "source": [
    "from mlrun import code_to_function, mount_v3io"
   ]
  },
  {
   "cell_type": "code",
   "execution_count": 8,
   "metadata": {},
   "outputs": [
    {
     "name": "stdout",
     "output_type": "stream",
     "text": [
      "> 2021-07-30 23:47:07,388 [info] starting run model-monitoring-batch uid=daf7ef66f5064699924ab6b3b984292d DB=http://mlrun-api:8080\n",
      "> 2021-07-30 23:47:07,503 [info] task scheduled, {'schedule': '0 */1 * * *', 'project': 'gitops-project', 'name': 'model-monitoring-batch'}\n"
     ]
    }
   ],
   "source": [
    "fn = code_to_function(\n",
    "    name=\"model-monitoring-batch\",\n",
    "    kind=\"job\",\n",
    "    image=\"mlrun/mlrun\",\n",
    "    filename=\"model_monitoring_batch.py\",\n",
    "    handler=\"handler\",\n",
    ")\n",
    "fn.metadata.project = project\n",
    "fn.apply(mount_v3io())\n",
    "\n",
    "# Run the function as an MLRun job\n",
    "fn.run(name='model-monitoring-batch', schedule=\"0 */1 * * *\",\n",
    "       params={\"project\": project})"
   ]
  }
 ],
 "metadata": {
  "kernelspec": {
   "display_name": "Python [conda env:root] *",
   "language": "python",
   "name": "conda-root-py"
  },
  "language_info": {
   "codemirror_mode": {
    "name": "ipython",
    "version": 3
   },
   "file_extension": ".py",
   "mimetype": "text/x-python",
   "name": "python",
   "nbconvert_exporter": "python",
   "pygments_lexer": "ipython3",
   "version": "3.7.6"
  }
 },
 "nbformat": 4,
 "nbformat_minor": 4
}
