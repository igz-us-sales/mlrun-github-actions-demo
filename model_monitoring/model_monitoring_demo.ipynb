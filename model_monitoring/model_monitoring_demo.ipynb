{
 "cells": [
  {
   "cell_type": "code",
   "execution_count": 1,
   "metadata": {},
   "outputs": [],
   "source": [
    "project = \"gitops-project\""
   ]
  },
  {
   "cell_type": "markdown",
   "metadata": {},
   "source": [
    "### Deploy Stream Processing"
   ]
  },
  {
   "cell_type": "code",
   "execution_count": 2,
   "metadata": {},
   "outputs": [],
   "source": [
    "import v3io.dataplane"
   ]
  },
  {
   "cell_type": "code",
   "execution_count": 3,
   "metadata": {},
   "outputs": [],
   "source": [
    "v3io_client = v3io.dataplane.Client()"
   ]
  },
  {
   "cell_type": "code",
   "execution_count": 4,
   "metadata": {},
   "outputs": [
    {
     "data": {
      "text/plain": [
       "'gitops-project/model-endpoints/stream'"
      ]
     },
     "execution_count": 4,
     "metadata": {},
     "output_type": "execute_result"
    }
   ],
   "source": [
    "stream_path=f'{project}/model-endpoints/stream'\n",
    "container='projects'\n",
    "\n",
    "stream_path"
   ]
  },
  {
   "cell_type": "code",
   "execution_count": 5,
   "metadata": {},
   "outputs": [
    {
     "data": {
      "text/plain": [
       "<v3io.dataplane.response.Response at 0x7f2e4ed5b1f0>"
      ]
     },
     "execution_count": 5,
     "metadata": {},
     "output_type": "execute_result"
    }
   ],
   "source": [
    "v3io_client.stream.create(container='projects', stream_path=f'{project}/model-endpoints/stream', shard_count=1, raise_for_status=[204, 409])"
   ]
  },
  {
   "cell_type": "code",
   "execution_count": 6,
   "metadata": {},
   "outputs": [
    {
     "data": {
      "text/plain": [
       "<v3io.dataplane.response.Response at 0x7f2e4ed5b340>"
      ]
     },
     "execution_count": 6,
     "metadata": {},
     "output_type": "execute_result"
    }
   ],
   "source": [
    "v3io_client.stream.create(container='projects', stream_path=f'{project}/model-endpoints/log_stream', shard_count=1, raise_for_status=[204, 409])"
   ]
  },
  {
   "cell_type": "code",
   "execution_count": 7,
   "metadata": {},
   "outputs": [
    {
     "name": "stdout",
     "output_type": "stream",
     "text": [
      "> 2023-06-28 18:05:44,830 [info] Starting remote function deploy\n",
      "2023-06-28 18:05:45  (info) Deploying function\n",
      "2023-06-28 18:05:45  (info) Building\n",
      "2023-06-28 18:05:46  (info) Staging files and preparing base images\n",
      "2023-06-28 18:05:46  (info) Building processor image\n",
      "2023-06-28 18:06:21  (info) Build complete\n",
      "2023-06-28 18:06:42  (info) Function deploy complete\n",
      "> 2023-06-28 18:06:47,021 [info] successfully deployed function: {'internal_invocation_urls': ['nuclio-gitops-project-model-monitoring-stream.default-tenant.svc.cluster.local:8080'], 'external_invocation_urls': ['gitops-project-model-monitoring-stream-gitops-project.default-tenant.app.cst-353.iguazio-cd1.com/']}\n"
     ]
    },
    {
     "data": {
      "text/plain": [
       "'http://gitops-project-model-monitoring-stream-gitops-project.default-tenant.app.cst-353.iguazio-cd1.com/'"
      ]
     },
     "execution_count": 7,
     "metadata": {},
     "output_type": "execute_result"
    }
   ],
   "source": [
    "import os\n",
    "\n",
    "from mlrun import import_function\n",
    "from mlrun.platforms import mount_v3io\n",
    "from mlrun.runtimes import RemoteRuntime\n",
    "import json\n",
    "\n",
    "fn: RemoteRuntime = import_function(\"hub://model_monitoring_stream\")\n",
    "\n",
    "# Configures the nuclio trigger. See nuclio triggers https://nuclio.io/docs/latest/reference/triggers/.\n",
    "fn.add_v3io_stream_trigger(\n",
    "    stream_path=f\"projects/{project}/model-endpoints/stream\",\n",
    "    name=\"monitoring_stream_trigger\",\n",
    ")\n",
    "\n",
    "fn.set_env(\"MODEL_MONITORING_PARAMETERS\", json.dumps(\n",
    "    {\"project\": project, \"v3io_framesd\": os.environ.get(\"V3IO_FRAMESD\")}))\n",
    "\n",
    "fn.metadata.project = project\n",
    "fn.apply(mount_v3io())\n",
    "\n",
    "# Deploy the function\n",
    "fn.deploy()"
   ]
  },
  {
   "cell_type": "markdown",
   "metadata": {},
   "source": [
    "### Deploy Batch Processing"
   ]
  },
  {
   "cell_type": "code",
   "execution_count": 8,
   "metadata": {},
   "outputs": [],
   "source": [
    "from mlrun import code_to_function, mount_v3io"
   ]
  },
  {
   "cell_type": "code",
   "execution_count": 14,
   "metadata": {},
   "outputs": [
    {
     "name": "stdout",
     "output_type": "stream",
     "text": [
      "> 2023-06-28 18:13:20,642 [info] Storing function: {'name': 'model-monitoring-batch', 'uid': 'bf314462e83a40c1952aecbc88bf3ce1', 'db': 'http://mlrun-api:8080'}\n",
      "> 2023-06-28 18:13:20,982 [info] task schedule modified: {'schedule': '*/10 * * * *', 'project': 'gitops-project', 'name': 'model-monitoring-batch'}\n"
     ]
    }
   ],
   "source": [
    "fn = code_to_function(\n",
    "    name=\"model-monitoring-batch\",\n",
    "    kind=\"job\",\n",
    "    image=\"mlrun/mlrun\",\n",
    "    filename=\"model_monitoring_batch.py\",\n",
    "    handler=\"handler\",\n",
    ")\n",
    "fn.metadata.project = project\n",
    "fn.apply(mount_v3io())\n",
    "\n",
    "# Run the function as an MLRun job\n",
    "fn.run(name='model-monitoring-batch', schedule=\"*/10 * * * *\",\n",
    "       params={\"project\": project})"
   ]
  },
  {
   "cell_type": "code",
   "execution_count": null,
   "metadata": {},
   "outputs": [],
   "source": []
  }
 ],
 "metadata": {
  "kernelspec": {
   "display_name": "mlrun-base",
   "language": "python",
   "name": "conda-env-mlrun-base-py"
  },
  "language_info": {
   "codemirror_mode": {
    "name": "ipython",
    "version": 3
   },
   "file_extension": ".py",
   "mimetype": "text/x-python",
   "name": "python",
   "nbconvert_exporter": "python",
   "pygments_lexer": "ipython3",
   "version": "3.9.16"
  }
 },
 "nbformat": 4,
 "nbformat_minor": 4
}
